{
 "cells": [
  {
   "cell_type": "code",
   "execution_count": 3,
   "id": "5490c5d5",
   "metadata": {},
   "outputs": [],
   "source": [
    "import pandas as pd\n",
    "import numpy as np\n",
    "import xlwings as xw\n",
    "import glob\n",
    "import os\n",
    "import tsfel\n",
    "import seaborn as sns\n",
    "import matplotlib.pyplot as plt\n",
    "from sklearn.model_selection import train_test_split\n",
    "from sklearn.feature_selection import SelectKBest, f_classif\n",
    "from sklearn.feature_selection import chi2\n",
    "from sklearn.metrics import confusion_matrix\n",
    "from sklearn.metrics import plot_precision_recall_curve\n",
    "from sklearn.metrics import roc_curve,auc\n",
    "from sklearn.metrics import roc_auc_score\n",
    "from sklearn.metrics import accuracy_score\n",
    "from sklearn.ensemble import RandomForestClassifier\n",
    "from sklearn.ensemble import AdaBoostClassifier\n",
    "from sklearn.tree import DecisionTreeClassifier\n",
    "from sklearn.datasets import make_classification\n",
    "from sklearn.pipeline import make_pipeline\n",
    "from sklearn.svm import LinearSVC\n",
    "\n"
   ]
  },
  {
   "cell_type": "markdown",
   "id": "6f834299",
   "metadata": {},
   "source": [
    "### Data with signal"
   ]
  },
  {
   "cell_type": "code",
   "execution_count": 50,
   "id": "80b5025a",
   "metadata": {},
   "outputs": [],
   "source": [
    "xl = r'C:\\Users\\emilh\\Desktop\\Data_split\\Full data\\AEPrec_sABRe_data_TPsABR21_BILATERAL_2021-Aug-18_13.09.55.xlsx'\n",
    "\n",
    "try:\n",
    "    excel_app=xw.App(visible=False)\n",
    "    wb=excel_app.books.open(xl)\n",
    "    for sheet in wb.sheets:\n",
    "        sheet.api.Copy()\n",
    "        wb_new=xw.books.active\n",
    "        wb_new.save(f'{xl+sheet.name}.xlsx')\n",
    "        wb_new.close()\n",
    "finally:\n",
    "    excel_app.quit()"
   ]
  },
  {
   "cell_type": "code",
   "execution_count": null,
   "id": "e0610d28",
   "metadata": {},
   "outputs": [],
   "source": [
    "cwd=os.chdir(r'C:\\\\Users\\\\emilh\\Desktop\\\\New_Data_split')\n",
    "files=os.listdir(cwd)\n",
    "\n",
    "df=pd.DataFrame()\n",
    "for file in files:\n",
    "    if file.endswith('.xlsx'):\n",
    "        df=df.append(pd.read_excel(file), ignore_index=True)\n",
    "\n",
    "df.head()\n",
    "df.to_excel('data.xlsx')"
   ]
  },
  {
   "cell_type": "code",
   "execution_count": 14,
   "id": "a2488902",
   "metadata": {},
   "outputs": [],
   "source": [
    "file = pd.read_excel(r'C:\\Users\\emhm\\Desktop\\Simp_Data\\data.xlsx')\n",
    "file.insert(0, 'Signal', '1')"
   ]
  },
  {
   "cell_type": "markdown",
   "id": "26fdd9bc",
   "metadata": {},
   "source": [
    "### Data without signal"
   ]
  },
  {
   "cell_type": "code",
   "execution_count": 12,
   "id": "a860e26e",
   "metadata": {},
   "outputs": [],
   "source": [
    "no_sig=pd.read_excel(r'C:\\Users\\emhm\\Desktop\\No_sig_data\\ABR_Noise.xlsx')\n",
    "no_sig.insert(0, 'signal', '0')\n",
    "no_sig.insert(0, 'ipsi_wa (nV)', 'ipsi_wa (nV)')\n",
    "no_sig.to_excel('ABR_Noise_Edit.xlsx')"
   ]
  },
  {
   "cell_type": "markdown",
   "id": "f89b4025",
   "metadata": {},
   "source": [
    "### Final data"
   ]
  },
  {
   "cell_type": "code",
   "execution_count": 47,
   "id": "fcee4244",
   "metadata": {},
   "outputs": [
    {
     "name": "stderr",
     "output_type": "stream",
     "text": [
      "C:\\Users\\emhm\\AppData\\Local\\Temp\\ipykernel_24752\\3059609829.py:7: FutureWarning: The frame.append method is deprecated and will be removed from pandas in a future version. Use pandas.concat instead.\n",
      "  df=df.append(pd.read_excel(file), ignore_index=True)\n",
      "C:\\Users\\emhm\\AppData\\Local\\Temp\\ipykernel_24752\\3059609829.py:7: FutureWarning: The frame.append method is deprecated and will be removed from pandas in a future version. Use pandas.concat instead.\n",
      "  df=df.append(pd.read_excel(file), ignore_index=True)\n"
     ]
    }
   ],
   "source": [
    "cwd=os.chdir(r'C:\\Users\\emhm\\Desktop\\Final_Data')\n",
    "files=os.listdir(cwd)\n",
    "\n",
    "df=pd.DataFrame()\n",
    "for file in files:\n",
    "    if file.endswith('.xlsx'):\n",
    "        df=df.append(pd.read_excel(file), ignore_index=True)\n",
    "\n",
    "df.head()\n",
    "df.to_excel('final_data.xlsx')"
   ]
  },
  {
   "cell_type": "markdown",
   "id": "84eb403a",
   "metadata": {},
   "source": [
    "## Feature extraction"
   ]
  },
  {
   "cell_type": "code",
   "execution_count": 4,
   "id": "108fe250",
   "metadata": {},
   "outputs": [
    {
     "name": "stdout",
     "output_type": "stream",
     "text": [
      "               1  Unnamed: 1  Unnamed: 2  Unnamed: 3  Unnamed: 4  Unnamed: 5  \\\n",
      "0       5.603800  -38.927500  -11.341600  -17.124500  -48.048800  -50.396700   \n",
      "1     -43.212600  -79.867200   33.565600   15.791900  -72.675900    8.417500   \n",
      "2     -46.965600   18.698800   98.799000   56.311100   30.194000  -20.405100   \n",
      "3     -99.623400  115.402500   19.279300  -85.524100   23.319400   21.758900   \n",
      "4    -129.249400   27.313500  -29.172700  -98.742900  -27.481700  -78.638100   \n",
      "...          ...         ...         ...         ...         ...         ...   \n",
      "1915   36.137741   13.023998   11.515466    1.477971  -18.800922  -67.927864   \n",
      "1916   37.027374   13.442250   12.359756    0.885935  -20.103682  -66.844124   \n",
      "1917   38.322655   13.239399   13.453218    0.431290  -22.010288  -65.040337   \n",
      "1918   39.658405   12.517688   14.589395    0.308821  -24.157131  -62.847839   \n",
      "1919         NaN   40.639149   11.476324   15.424708    0.668191  -26.218306   \n",
      "\n",
      "      Unnamed: 6  Unnamed: 7  Unnamed: 8  Unnamed: 9  ...  Unnamed: 190  \\\n",
      "0     -93.523700  -10.301100  -45.134000  -42.761100  ...      -12.6428   \n",
      "1       5.904400    9.263000  -70.992100   19.879100  ...        5.1755   \n",
      "2      62.455400  -17.674600 -109.602700  -93.111300  ...       54.3536   \n",
      "3      42.968800  -36.169700  -52.245300  -50.966100  ...      -23.5534   \n",
      "4      74.305700  -88.832700  -45.150400   71.879100  ...        9.9195   \n",
      "...          ...         ...         ...         ...  ...           ...   \n",
      "1915   11.715694   -1.005630   38.617214   22.839993  ...           NaN   \n",
      "1916   12.452330    1.935043   38.633339   25.273949  ...           NaN   \n",
      "1917   13.291529    4.562396   38.380257   28.067963  ...           NaN   \n",
      "1918   14.228223    6.861528   37.913109   31.113920  ...           NaN   \n",
      "1919  -60.522289   15.107720    8.992220   37.183880  ...           NaN   \n",
      "\n",
      "      Unnamed: 191  Unnamed: 192  Unnamed: 193  Unnamed: 194  Unnamed: 195  \\\n",
      "0         -54.5785      -28.9239      -57.5088       62.5681      -34.1353   \n",
      "1         -57.1676      -13.4106      -56.4773      -22.4038      -56.3727   \n",
      "2           6.5854       85.3725       32.9506       -3.8560       10.8699   \n",
      "3         -10.5952       88.9914      118.0471      -88.0946        0.9481   \n",
      "4         -30.3956       39.3233      145.0660       -3.1763       -9.0165   \n",
      "...            ...           ...           ...           ...           ...   \n",
      "1915           NaN           NaN           NaN           NaN           NaN   \n",
      "1916           NaN           NaN           NaN           NaN           NaN   \n",
      "1917           NaN           NaN           NaN           NaN           NaN   \n",
      "1918           NaN           NaN           NaN           NaN           NaN   \n",
      "1919           NaN           NaN           NaN           NaN           NaN   \n",
      "\n",
      "      Unnamed: 196  Unnamed: 197  Unnamed: 198  Unnamed: 199  \n",
      "0         -70.7126      -49.2882      -77.2607       17.8004  \n",
      "1        -133.4813       43.8064        3.0749      147.3573  \n",
      "2         -45.5931       47.8074       39.3286      180.0512  \n",
      "3           2.6251       57.7207      -34.8379      103.9284  \n",
      "4          41.1175       37.2818      -45.5748      127.7879  \n",
      "...            ...           ...           ...           ...  \n",
      "1915           NaN           NaN           NaN           NaN  \n",
      "1916           NaN           NaN           NaN           NaN  \n",
      "1917           NaN           NaN           NaN           NaN  \n",
      "1918           NaN           NaN           NaN           NaN  \n",
      "1919           NaN           NaN           NaN           NaN  \n",
      "\n",
      "[1920 rows x 200 columns]\n"
     ]
    }
   ],
   "source": [
    "data=pd.read_excel(r'C:\\Users\\emhm\\Desktop\\Final_Data\\final_data.xlsx')\n",
    "X=data.drop('Label', axis=1)\n",
    "y=data.loc[:, 'Label']\n",
    "\n",
    "x_train, x_test, y_train, y_test=train_test_split(X, y, test_size=0.2, random_state=42)\n",
    "\n",
    "print(X)"
   ]
  },
  {
   "cell_type": "code",
   "execution_count": 6,
   "id": "2e16caa4",
   "metadata": {},
   "outputs": [
    {
     "name": "stdout",
     "output_type": "stream",
     "text": [
      "*** Feature extraction started ***\n",
      "60\n"
     ]
    },
    {
     "data": {
      "text/html": [
       "\n",
       "              <p>\n",
       "                  Progress: 15% Complete\n",
       "              <p/>            \n",
       "              <progress\n",
       "                  value='9'\n",
       "                  max='60',\n",
       "                  style='width: 25%',\n",
       "              >\n",
       "                  9\n",
       "              </progress>\n",
       "\n",
       "    "
      ],
      "text/plain": [
       "<IPython.core.display.HTML object>"
      ]
     },
     "metadata": {},
     "output_type": "display_data"
    },
    {
     "ename": "IndexError",
     "evalue": "index 0 is out of bounds for axis 0 with size 0",
     "output_type": "error",
     "traceback": [
      "\u001b[1;31m---------------------------------------------------------------------------\u001b[0m",
      "\u001b[1;31mIndexError\u001b[0m                                Traceback (most recent call last)",
      "\u001b[1;32mc:\\Users\\emhm\\Desktop\\Scripts\\data_engineering.ipynb Cell 12'\u001b[0m in \u001b[0;36m<module>\u001b[1;34m\u001b[0m\n\u001b[0;32m      <a href='vscode-notebook-cell:/c%3A/Users/emhm/Desktop/Scripts/data_engineering.ipynb#ch0000016?line=0'>1</a>\u001b[0m cfg \u001b[39m=\u001b[39m tsfel\u001b[39m.\u001b[39mget_features_by_domain()\n\u001b[1;32m----> <a href='vscode-notebook-cell:/c%3A/Users/emhm/Desktop/Scripts/data_engineering.ipynb#ch0000016?line=2'>3</a>\u001b[0m feature_train \u001b[39m=\u001b[39m tsfel\u001b[39m.\u001b[39;49mtime_series_features_extractor(cfg, x_train, fs\u001b[39m=\u001b[39;49m\u001b[39m100\u001b[39;49m)\n\u001b[0;32m      <a href='vscode-notebook-cell:/c%3A/Users/emhm/Desktop/Scripts/data_engineering.ipynb#ch0000016?line=3'>4</a>\u001b[0m feature_test \u001b[39m=\u001b[39m tsfel\u001b[39m.\u001b[39mtime_series_features_extractor(cfg, x_test, fs\u001b[39m=\u001b[39m\u001b[39m150\u001b[39m)\n",
      "File \u001b[1;32m~\\AppData\\Local\\Packages\\PythonSoftwareFoundation.Python.3.9_qbz5n2kfra8p0\\LocalCache\\local-packages\\Python39\\site-packages\\tsfel\\feature_extraction\\calc_features.py:268\u001b[0m, in \u001b[0;36mtime_series_features_extractor\u001b[1;34m(dict_features, signal_windows, fs, verbose, **kwargs)\u001b[0m\n\u001b[0;32m    <a href='file:///c%3A/Users/emhm/AppData/Local/Packages/PythonSoftwareFoundation.Python.3.9_qbz5n2kfra8p0/LocalCache/local-packages/Python39/site-packages/tsfel/feature_extraction/calc_features.py?line=264'>265</a>\u001b[0m features_final \u001b[39m=\u001b[39m pd\u001b[39m.\u001b[39mDataFrame()\n\u001b[0;32m    <a href='file:///c%3A/Users/emhm/AppData/Local/Packages/PythonSoftwareFoundation.Python.3.9_qbz5n2kfra8p0/LocalCache/local-packages/Python39/site-packages/tsfel/feature_extraction/calc_features.py?line=266'>267</a>\u001b[0m \u001b[39mif\u001b[39;00m \u001b[39misinstance\u001b[39m(signal_windows, pd\u001b[39m.\u001b[39mDataFrame):\n\u001b[1;32m--> <a href='file:///c%3A/Users/emhm/AppData/Local/Packages/PythonSoftwareFoundation.Python.3.9_qbz5n2kfra8p0/LocalCache/local-packages/Python39/site-packages/tsfel/feature_extraction/calc_features.py?line=267'>268</a>\u001b[0m     features_final \u001b[39m=\u001b[39m calc_window_features(dict_features, signal_windows, fs, verbose\u001b[39m=\u001b[39;49mverbose, single_window\u001b[39m=\u001b[39;49m\u001b[39mTrue\u001b[39;49;00m,\n\u001b[0;32m    <a href='file:///c%3A/Users/emhm/AppData/Local/Packages/PythonSoftwareFoundation.Python.3.9_qbz5n2kfra8p0/LocalCache/local-packages/Python39/site-packages/tsfel/feature_extraction/calc_features.py?line=268'>269</a>\u001b[0m                                           features_path\u001b[39m=\u001b[39;49mfeatures_path,\n\u001b[0;32m    <a href='file:///c%3A/Users/emhm/AppData/Local/Packages/PythonSoftwareFoundation.Python.3.9_qbz5n2kfra8p0/LocalCache/local-packages/Python39/site-packages/tsfel/feature_extraction/calc_features.py?line=269'>270</a>\u001b[0m                                           header_names\u001b[39m=\u001b[39;49mnames)\n\u001b[0;32m    <a href='file:///c%3A/Users/emhm/AppData/Local/Packages/PythonSoftwareFoundation.Python.3.9_qbz5n2kfra8p0/LocalCache/local-packages/Python39/site-packages/tsfel/feature_extraction/calc_features.py?line=270'>271</a>\u001b[0m \u001b[39melse\u001b[39;00m:\n\u001b[0;32m    <a href='file:///c%3A/Users/emhm/AppData/Local/Packages/PythonSoftwareFoundation.Python.3.9_qbz5n2kfra8p0/LocalCache/local-packages/Python39/site-packages/tsfel/feature_extraction/calc_features.py?line=271'>272</a>\u001b[0m     \u001b[39mif\u001b[39;00m \u001b[39misinstance\u001b[39m(signal_windows[\u001b[39m0\u001b[39m], numbers\u001b[39m.\u001b[39mReal):\n",
      "File \u001b[1;32m~\\AppData\\Local\\Packages\\PythonSoftwareFoundation.Python.3.9_qbz5n2kfra8p0\\LocalCache\\local-packages\\Python39\\site-packages\\tsfel\\feature_extraction\\calc_features.py:462\u001b[0m, in \u001b[0;36mcalc_window_features\u001b[1;34m(dict_features, signal_window, fs, verbose, single_window, **kwargs)\u001b[0m\n\u001b[0;32m    <a href='file:///c%3A/Users/emhm/AppData/Local/Packages/PythonSoftwareFoundation.Python.3.9_qbz5n2kfra8p0/LocalCache/local-packages/Python39/site-packages/tsfel/feature_extraction/calc_features.py?line=458'>459</a>\u001b[0m     execf \u001b[39m+\u001b[39m\u001b[39m=\u001b[39m \u001b[39m'\u001b[39m\u001b[39m, \u001b[39m\u001b[39m'\u001b[39m \u001b[39m+\u001b[39m \u001b[39mstr\u001b[39m(parameters_total)\u001b[39m.\u001b[39mtranslate(\u001b[39mstr\u001b[39m\u001b[39m.\u001b[39mmaketrans({\u001b[39m'\u001b[39m\u001b[39m[\u001b[39m\u001b[39m'\u001b[39m: \u001b[39m'\u001b[39m\u001b[39m'\u001b[39m, \u001b[39m'\u001b[39m\u001b[39m]\u001b[39m\u001b[39m'\u001b[39m: \u001b[39m'\u001b[39m\u001b[39m'\u001b[39m, \u001b[39m\"\u001b[39m\u001b[39m'\u001b[39m\u001b[39m\"\u001b[39m: \u001b[39m'\u001b[39m\u001b[39m'\u001b[39m}))\n\u001b[0;32m    <a href='file:///c%3A/Users/emhm/AppData/Local/Packages/PythonSoftwareFoundation.Python.3.9_qbz5n2kfra8p0/LocalCache/local-packages/Python39/site-packages/tsfel/feature_extraction/calc_features.py?line=460'>461</a>\u001b[0m execf \u001b[39m+\u001b[39m\u001b[39m=\u001b[39m \u001b[39m'\u001b[39m\u001b[39m)\u001b[39m\u001b[39m'\u001b[39m\n\u001b[1;32m--> <a href='file:///c%3A/Users/emhm/AppData/Local/Packages/PythonSoftwareFoundation.Python.3.9_qbz5n2kfra8p0/LocalCache/local-packages/Python39/site-packages/tsfel/feature_extraction/calc_features.py?line=461'>462</a>\u001b[0m eval_result \u001b[39m=\u001b[39m \u001b[39meval\u001b[39;49m(execf, \u001b[39mlocals\u001b[39;49m())\n\u001b[0;32m    <a href='file:///c%3A/Users/emhm/AppData/Local/Packages/PythonSoftwareFoundation.Python.3.9_qbz5n2kfra8p0/LocalCache/local-packages/Python39/site-packages/tsfel/feature_extraction/calc_features.py?line=463'>464</a>\u001b[0m \u001b[39m# Function returns more than one element\u001b[39;00m\n\u001b[0;32m    <a href='file:///c%3A/Users/emhm/AppData/Local/Packages/PythonSoftwareFoundation.Python.3.9_qbz5n2kfra8p0/LocalCache/local-packages/Python39/site-packages/tsfel/feature_extraction/calc_features.py?line=464'>465</a>\u001b[0m \u001b[39mif\u001b[39;00m \u001b[39mtype\u001b[39m(eval_result) \u001b[39m==\u001b[39m \u001b[39mtuple\u001b[39m:\n",
      "File \u001b[1;32m<string>:1\u001b[0m, in \u001b[0;36m<module>\u001b[1;34m\u001b[0m\n",
      "File \u001b[1;32m~\\AppData\\Local\\Packages\\PythonSoftwareFoundation.Python.3.9_qbz5n2kfra8p0\\LocalCache\\local-packages\\Python39\\site-packages\\tsfel\\feature_extraction\\features.py:1454\u001b[0m, in \u001b[0;36mpower_bandwidth\u001b[1;34m(signal, fs)\u001b[0m\n\u001b[0;32m   <a href='file:///c%3A/Users/emhm/AppData/Local/Packages/PythonSoftwareFoundation.Python.3.9_qbz5n2kfra8p0/LocalCache/local-packages/Python39/site-packages/tsfel/feature_extraction/features.py?line=1451'>1452</a>\u001b[0m \u001b[39m# Computing the lower and upper limits of power bandwidth\u001b[39;00m\n\u001b[0;32m   <a href='file:///c%3A/Users/emhm/AppData/Local/Packages/PythonSoftwareFoundation.Python.3.9_qbz5n2kfra8p0/LocalCache/local-packages/Python39/site-packages/tsfel/feature_extraction/features.py?line=1452'>1453</a>\u001b[0m cum_power \u001b[39m=\u001b[39m np\u001b[39m.\u001b[39mcumsum(power)\n\u001b[1;32m-> <a href='file:///c%3A/Users/emhm/AppData/Local/Packages/PythonSoftwareFoundation.Python.3.9_qbz5n2kfra8p0/LocalCache/local-packages/Python39/site-packages/tsfel/feature_extraction/features.py?line=1453'>1454</a>\u001b[0m f_lower \u001b[39m=\u001b[39m freq[np\u001b[39m.\u001b[39;49mwhere(cum_power \u001b[39m>\u001b[39;49m\u001b[39m=\u001b[39;49m cum_power[\u001b[39m-\u001b[39;49m\u001b[39m1\u001b[39;49m] \u001b[39m*\u001b[39;49m \u001b[39m0.95\u001b[39;49m)[\u001b[39m0\u001b[39;49m][\u001b[39m0\u001b[39;49m]]\n\u001b[0;32m   <a href='file:///c%3A/Users/emhm/AppData/Local/Packages/PythonSoftwareFoundation.Python.3.9_qbz5n2kfra8p0/LocalCache/local-packages/Python39/site-packages/tsfel/feature_extraction/features.py?line=1455'>1456</a>\u001b[0m cum_power_inv \u001b[39m=\u001b[39m np\u001b[39m.\u001b[39mcumsum(power[::\u001b[39m-\u001b[39m\u001b[39m1\u001b[39m])\n\u001b[0;32m   <a href='file:///c%3A/Users/emhm/AppData/Local/Packages/PythonSoftwareFoundation.Python.3.9_qbz5n2kfra8p0/LocalCache/local-packages/Python39/site-packages/tsfel/feature_extraction/features.py?line=1456'>1457</a>\u001b[0m f_upper \u001b[39m=\u001b[39m freq[np\u001b[39m.\u001b[39mabs(np\u001b[39m.\u001b[39mwhere(cum_power_inv \u001b[39m>\u001b[39m\u001b[39m=\u001b[39m cum_power[\u001b[39m-\u001b[39m\u001b[39m1\u001b[39m] \u001b[39m*\u001b[39m \u001b[39m0.95\u001b[39m)[\u001b[39m0\u001b[39m][\u001b[39m0\u001b[39m] \u001b[39m-\u001b[39m \u001b[39mlen\u001b[39m(power) \u001b[39m+\u001b[39m \u001b[39m1\u001b[39m)]\n",
      "\u001b[1;31mIndexError\u001b[0m: index 0 is out of bounds for axis 0 with size 0"
     ]
    }
   ],
   "source": [
    "cfg = tsfel.get_features_by_domain()\n",
    "\n",
    "feature_train = tsfel.time_series_features_extractor(cfg, x_train, fs=150)\n",
    "feature_test = tsfel.time_series_features_extractor(cfg, x_test, fs=150)"
   ]
  },
  {
   "cell_type": "code",
   "execution_count": 35,
   "id": "12a2fb97",
   "metadata": {},
   "outputs": [
    {
     "data": {
      "text/html": [
       "<div>\n",
       "<style scoped>\n",
       "    .dataframe tbody tr th:only-of-type {\n",
       "        vertical-align: middle;\n",
       "    }\n",
       "\n",
       "    .dataframe tbody tr th {\n",
       "        vertical-align: top;\n",
       "    }\n",
       "\n",
       "    .dataframe thead th {\n",
       "        text-align: right;\n",
       "    }\n",
       "</style>\n",
       "<table border=\"1\" class=\"dataframe\">\n",
       "  <thead>\n",
       "    <tr style=\"text-align: right;\">\n",
       "      <th></th>\n",
       "      <th>0_Absolute energy</th>\n",
       "      <th>0_Area under the curve</th>\n",
       "      <th>0_Autocorrelation</th>\n",
       "      <th>0_Centroid</th>\n",
       "      <th>0_ECDF Percentile Count_0</th>\n",
       "      <th>0_ECDF Percentile Count_1</th>\n",
       "      <th>0_ECDF Percentile_0</th>\n",
       "      <th>0_ECDF Percentile_1</th>\n",
       "      <th>0_ECDF_0</th>\n",
       "      <th>0_ECDF_1</th>\n",
       "      <th>...</th>\n",
       "      <th>9_Wavelet variance_0</th>\n",
       "      <th>9_Wavelet variance_1</th>\n",
       "      <th>9_Wavelet variance_2</th>\n",
       "      <th>9_Wavelet variance_3</th>\n",
       "      <th>9_Wavelet variance_4</th>\n",
       "      <th>9_Wavelet variance_5</th>\n",
       "      <th>9_Wavelet variance_6</th>\n",
       "      <th>9_Wavelet variance_7</th>\n",
       "      <th>9_Wavelet variance_8</th>\n",
       "      <th>9_Zero crossing rate</th>\n",
       "    </tr>\n",
       "  </thead>\n",
       "  <tbody>\n",
       "    <tr>\n",
       "      <th>0</th>\n",
       "      <td>1.137388e+06</td>\n",
       "      <td>75.288418</td>\n",
       "      <td>1.137388e+06</td>\n",
       "      <td>1.303597</td>\n",
       "      <td>76.0</td>\n",
       "      <td>307.0</td>\n",
       "      <td>-55.175</td>\n",
       "      <td>47.2437</td>\n",
       "      <td>0.002604</td>\n",
       "      <td>0.005208</td>\n",
       "      <td>...</td>\n",
       "      <td>3887.412137</td>\n",
       "      <td>4741.00782</td>\n",
       "      <td>4306.83268</td>\n",
       "      <td>4162.720583</td>\n",
       "      <td>4193.874468</td>\n",
       "      <td>4370.068473</td>\n",
       "      <td>4573.968522</td>\n",
       "      <td>4761.893343</td>\n",
       "      <td>4849.13791</td>\n",
       "      <td>174.0</td>\n",
       "    </tr>\n",
       "  </tbody>\n",
       "</table>\n",
       "<p>1 rows × 49704 columns</p>\n",
       "</div>"
      ],
      "text/plain": [
       "   0_Absolute energy  0_Area under the curve  0_Autocorrelation  0_Centroid  \\\n",
       "0       1.137388e+06               75.288418       1.137388e+06    1.303597   \n",
       "\n",
       "   0_ECDF Percentile Count_0  0_ECDF Percentile Count_1  0_ECDF Percentile_0  \\\n",
       "0                       76.0                      307.0              -55.175   \n",
       "\n",
       "   0_ECDF Percentile_1  0_ECDF_0  0_ECDF_1  ...  9_Wavelet variance_0  \\\n",
       "0              47.2437  0.002604  0.005208  ...           3887.412137   \n",
       "\n",
       "   9_Wavelet variance_1  9_Wavelet variance_2  9_Wavelet variance_3  \\\n",
       "0            4741.00782            4306.83268           4162.720583   \n",
       "\n",
       "   9_Wavelet variance_4  9_Wavelet variance_5  9_Wavelet variance_6  \\\n",
       "0           4193.874468           4370.068473           4573.968522   \n",
       "\n",
       "   9_Wavelet variance_7  9_Wavelet variance_8  9_Zero crossing rate  \n",
       "0           4761.893343            4849.13791                 174.0  \n",
       "\n",
       "[1 rows x 49704 columns]"
      ]
     },
     "execution_count": 35,
     "metadata": {},
     "output_type": "execute_result"
    }
   ],
   "source": [
    "feature_test"
   ]
  },
  {
   "cell_type": "markdown",
   "id": "b588885f",
   "metadata": {},
   "source": [
    "## Feature selection"
   ]
  },
  {
   "cell_type": "code",
   "execution_count": 24,
   "id": "28d46ebf",
   "metadata": {},
   "outputs": [],
   "source": [
    "X, y = make_classification(\n",
    "    n_features=20,\n",
    "    n_informative=3,\n",
    "    n_redundant=0,\n",
    "    n_classes=2,\n",
    "    n_clusters_per_class=2,\n",
    "    random_state=42,\n",
    ")"
   ]
  },
  {
   "cell_type": "markdown",
   "id": "c764b885",
   "metadata": {},
   "source": [
    "### Chi-Square"
   ]
  },
  {
   "cell_type": "code",
   "execution_count": null,
   "id": "1168e3d7",
   "metadata": {},
   "outputs": [],
   "source": []
  },
  {
   "cell_type": "markdown",
   "id": "1e82f96b",
   "metadata": {},
   "source": [
    "## Accuracy functions"
   ]
  },
  {
   "cell_type": "code",
   "execution_count": null,
   "id": "4393dd8d",
   "metadata": {},
   "outputs": [],
   "source": [
    "def get_confusion_matrix(y, y_pred, model):\n",
    "    \n",
    "    conf_matrix = confusion_matrix(y, y_pred)\n",
    "    df_cm = pd.DataFrame(conf_matrix,index = ['Signal','No Signal'], columns = ['Signal','No Signal'])\n",
    "    sns.set(font_scale = 1.4)\n",
    "    sns.heatmap(df_cm, annot = True, cmap = 'OrRd', fmt = 'g', annot_kws={\"size\": 16}) # font size\n",
    "    plt.ylabel('True labels')\n",
    "    plt.xlabel('Predicted labels')\n",
    "    plt.title('%s - Confusion Matrix' %model)\n",
    "    #plt.savefig('confusion_matrix.png', dpi = 100, bbox_inches='tight' )\n",
    "    plt.show()\n",
    "    plt.close()\n",
    "\n",
    "    return conf_matrix\n",
    "\n",
    "\n",
    "def get_normalized_confusion_matrix(y, y_pred, model):\n",
    "    \n",
    "    conf_matrix = confusion_matrix(y, y_pred)\n",
    "    conf_matrix = conf_matrix.astype(float)/conf_matrix.sum(axis = 1)[:,np.newaxis]\n",
    "    df_cm = pd.DataFrame(conf_matrix,index = ['Signal','No Signal'], columns = ['Signal','No Signal'])\n",
    "    sns.set(font_scale = 1.4)\n",
    "    sns.heatmap(df_cm, annot = True, cmap = 'OrRd', fmt = '.2f',annot_kws={\"size\": 16}) # font size\n",
    "    plt.ylabel('True labels')\n",
    "    plt.xlabel('Predicted labels')\n",
    "    plt.title('%s - Normalized Confusion Matrix' %model)\n",
    "    #plt.savefig('confusion_matrix.png', dpi = 100, bbox_inches='tight' )\n",
    "    plt.show()\n",
    "    plt.close()\n",
    "    \n",
    "    return conf_matrix\n",
    "\n",
    "\n",
    "# Based on Sensitivity and Recall \n",
    "# https://bmcgenomics.biomedcentral.com/articles/10.1186/s12864-019-6413-7\n",
    "def get_matthews_corrcoef(y_pred, y_true):\n",
    "    cov = np.cov(y_true, y_pred)\n",
    "    if cov[0,0]==0. or cov[1,1]==0.:\n",
    "        return 0.\n",
    "    else:\n",
    "        return cov[0,1]/np.sqrt(cov[0,0]*cov[1,1]) \n",
    "    \n",
    "    \n",
    "# Precision-Recall curve to evaluate a model\n",
    "# PR curves are specifically tailored for the detection of rare events\n",
    "def get_precision_recall_curve(y_true, y_pred):\n",
    "    #precision, recall, thresholds = precision_recall_curve(y_test, probs)\n",
    "    return plot_precision_recall_curve(classifier, x_test, y_test)\n",
    "  \n",
    "    \n",
    "    \n",
    "# ROC curves can sometimes be misleading in some very imbalanced applications\n",
    "def get_roc_curve(y_true, y_pred_proba, model):\n",
    "    \n",
    "    #keep probabilities for the positive outcome only\n",
    "    y_pred_proba = y_pred_proba[:,1]\n",
    "    fpr, tpr, thresholds = roc_curve(y_true, y_pred_proba)\n",
    "    \n",
    "    auc = roc_auc_score(y_true, y_pred_proba)\n",
    "    print('ROC AUC=%.3f' % (auc))\n",
    "    \n",
    "    plt.plot([0,1],[0,1],linestyle = '--',lw = 0.8,color = 'black', label='Luck')\n",
    "    plt.plot(fpr, tpr, marker='.', lw=2, color='red', label=r'ROC (AUC = %0.3f )' % (auc))\n",
    "    plt.xlabel('False Positive Rate')\n",
    "    plt.ylabel('True Positive Rate')\n",
    "    plt.title(r'%s - ROC curve' % (model))\n",
    "    plt.legend(loc = 'lower right')\n",
    "    plt.show()\n",
    "    \n",
    "    return auc\n",
    "    "
   ]
  },
  {
   "cell_type": "markdown",
   "id": "840ee101",
   "metadata": {},
   "source": [
    "## Random forrest"
   ]
  },
  {
   "cell_type": "code",
   "execution_count": 2,
   "id": "a3523c05",
   "metadata": {},
   "outputs": [
    {
     "ename": "NameError",
     "evalue": "name 'x_train' is not defined",
     "output_type": "error",
     "traceback": [
      "\u001b[1;31m---------------------------------------------------------------------------\u001b[0m",
      "\u001b[1;31mNameError\u001b[0m                                 Traceback (most recent call last)",
      "\u001b[1;32mc:\\Users\\emhm\\Desktop\\Scripts\\data_engineering.ipynb Cell 21'\u001b[0m in \u001b[0;36m<module>\u001b[1;34m\u001b[0m\n\u001b[0;32m      <a href='vscode-notebook-cell:/c%3A/Users/emhm/Desktop/Scripts/data_engineering.ipynb#ch0000025?line=0'>1</a>\u001b[0m rand_forrest_class\u001b[39m=\u001b[39mRandomForestClassifier(n_estimators\u001b[39m=\u001b[39m\u001b[39m400\u001b[39m,\n\u001b[0;32m      <a href='vscode-notebook-cell:/c%3A/Users/emhm/Desktop/Scripts/data_engineering.ipynb#ch0000025?line=1'>2</a>\u001b[0m                                             max_leaf_nodes\u001b[39m=\u001b[39m\u001b[39m16\u001b[39m,\n\u001b[0;32m      <a href='vscode-notebook-cell:/c%3A/Users/emhm/Desktop/Scripts/data_engineering.ipynb#ch0000025?line=2'>3</a>\u001b[0m                                             n_jobs\u001b[39m=\u001b[39m\u001b[39m-\u001b[39m\u001b[39m1\u001b[39m)\n\u001b[1;32m----> <a href='vscode-notebook-cell:/c%3A/Users/emhm/Desktop/Scripts/data_engineering.ipynb#ch0000025?line=4'>5</a>\u001b[0m rand_forrest_class\u001b[39m.\u001b[39mfit(x_train,y_train)\n",
      "\u001b[1;31mNameError\u001b[0m: name 'x_train' is not defined"
     ]
    }
   ],
   "source": [
    "rand_forrest_class=RandomForestClassifier(n_estimators=400,\n",
    "                                            max_leaf_nodes=16,\n",
    "                                            n_jobs=-1)\n",
    "\n",
    "rand_forrest_class.fit(x_train,y_train)"
   ]
  },
  {
   "cell_type": "code",
   "execution_count": null,
   "id": "9d5be0cc",
   "metadata": {},
   "outputs": [],
   "source": [
    "y_pred=rand_forrest_class.predict(x_test)"
   ]
  },
  {
   "cell_type": "code",
   "execution_count": 30,
   "id": "983284bd",
   "metadata": {},
   "outputs": [
    {
     "data": {
      "text/plain": [
       "1.0"
      ]
     },
     "execution_count": 30,
     "metadata": {},
     "output_type": "execute_result"
    }
   ],
   "source": [
    "accuracy_score(y_test, y_pred)"
   ]
  },
  {
   "cell_type": "code",
   "execution_count": null,
   "id": "04c190af",
   "metadata": {},
   "outputs": [],
   "source": [
    "rand_forrest_class=RandomForestClassifier(n_estimators=400,\n",
    "                                            max_leaf_nodes=16,\n",
    "                                            n_jobs=-1)\n",
    "rand_forrest_class.fit(x_train, y_train)\n",
    "\n",
    "#number of trees used\n",
    "print('Number of trees used: ', rand_forrest_class.n_estimators)\n",
    "\n",
    "# Predicting the target on training dataset\n",
    "predict_train=rand_forrest_class.predict(feature_train)\n",
    "print('Target on train data', predict_train)\n",
    "\n",
    "#Accuracy score\n",
    "acurracy_train=accuracy_score(y_train, predict_train)\n",
    "print('Accuracy_score on training set: ', acurracy_train)\n",
    "\n",
    "# Predict the target on test set\n",
    "predict_test=rand_forrest_class.predict(feature_test)\n",
    "print('Target on test data', predict_test)\n",
    "\n",
    "#Accuracy score on test data\n",
    "acurracy_test=accuracy_score(y_test, predict_test)\n",
    "print('Accuracy_score on test data', acurracy_test)"
   ]
  },
  {
   "cell_type": "markdown",
   "id": "27f4f025",
   "metadata": {},
   "source": [
    "### Adaboost"
   ]
  },
  {
   "cell_type": "code",
   "execution_count": null,
   "id": "7e8b9933",
   "metadata": {},
   "outputs": [],
   "source": [
    "ada_clf=AdaBoostClassifier(DecisionTreeClassifier(max_depth=1),\n",
    "                            n_estimators=100,\n",
    "                            algorithm='SAMME',\n",
    "                            learning_rate=1.0)\n",
    "\n",
    "ada_clf.fit(x_train, y_train)\n",
    "\n",
    "ada_clf.estimator_weights_"
   ]
  },
  {
   "cell_type": "code",
   "execution_count": 27,
   "id": "78c2702b",
   "metadata": {},
   "outputs": [
    {
     "data": {
      "text/plain": [
       "1.0"
      ]
     },
     "execution_count": 27,
     "metadata": {},
     "output_type": "execute_result"
    }
   ],
   "source": [
    "y_pred=ada_clf.predict(x_test)\n",
    "\n",
    "accuracy_score(y_test, y_pred)"
   ]
  }
 ],
 "metadata": {
  "kernelspec": {
   "display_name": "Python 3 (ipykernel)",
   "language": "python",
   "name": "python3"
  },
  "language_info": {
   "codemirror_mode": {
    "name": "ipython",
    "version": 3
   },
   "file_extension": ".py",
   "mimetype": "text/x-python",
   "name": "python",
   "nbconvert_exporter": "python",
   "pygments_lexer": "ipython3",
   "version": "3.9.12"
  }
 },
 "nbformat": 4,
 "nbformat_minor": 5
}
