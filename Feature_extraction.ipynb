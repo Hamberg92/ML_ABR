{
 "cells": [
  {
   "cell_type": "markdown",
   "metadata": {},
   "source": [
    "## Install and import necessary packages"
   ]
  },
  {
   "cell_type": "code",
   "execution_count": 5,
   "metadata": {},
   "outputs": [
    {
     "name": "stderr",
     "output_type": "stream",
     "text": [
      "ERROR: Could not find a version that satisfies the requirement glob (from versions: none)\n",
      "ERROR: No matching distribution found for glob\n"
     ]
    }
   ],
   "source": [
    "!pip install glob"
   ]
  },
  {
   "cell_type": "code",
   "execution_count": 2,
   "metadata": {},
   "outputs": [],
   "source": [
    "## Needed librarys\n",
    "import tsfel\n",
    "import pandas as pd\n",
    "import numpy as np\n",
    "import seaborn as sns\n",
    "import matplotlib.pyplot as plt\n",
    "import glob\n",
    "\n",
    "from sklearn import set_config\n",
    "from sklearn.datasets import make_classification, make_moons\n",
    "from sklearn.model_selection import train_test_split, GridSearchCV, cross_validate, cross_val_predict\n",
    "from sklearn.feature_selection import SelectKBest, f_classif, chi2 \n",
    "from sklearn import pipeline\n",
    "from sklearn.pipeline import make_pipeline\n",
    "from sklearn.svm import LinearSVC\n",
    "from sklearn.metrics import classification_report, confusion_matrix, precision_recall_curve, plot_precision_recall_curve, roc_curve, auc, roc_auc_score, accuracy_score\n",
    "\n",
    "from sklearn.ensemble import RandomForestClassifier, GradientBoostingClassifier, AdaBoostClassifier\n",
    "from sklearn.tree import DecisionTreeClassifier"
   ]
  },
  {
   "cell_type": "markdown",
   "metadata": {},
   "source": [
    "# Import dataset"
   ]
  },
  {
   "cell_type": "code",
   "execution_count": 10,
   "metadata": {},
   "outputs": [
    {
     "ename": "FileNotFoundError",
     "evalue": "[Errno 2] No such file or directory: 'C:\\\\Users\\\\emhm\\\\source\\\\repos\\\\ML viz\\\\ML viz\\\\AEPrec_sABRe_data_TP8sABR_BILATERAL_2021-Jun-24_14.59.57_MOD_OK.xlsx'",
     "output_type": "error",
     "traceback": [
      "\u001b[1;31m---------------------------------------------------------------------------\u001b[0m",
      "\u001b[1;31mFileNotFoundError\u001b[0m                         Traceback (most recent call last)",
      "\u001b[1;32m~\\AppData\\Local\\Temp/ipykernel_27892/3690044912.py\u001b[0m in \u001b[0;36m<module>\u001b[1;34m\u001b[0m\n\u001b[1;32m----> 1\u001b[1;33m \u001b[0mdf\u001b[0m\u001b[1;33m=\u001b[0m\u001b[0mpd\u001b[0m\u001b[1;33m.\u001b[0m\u001b[0mread_excel\u001b[0m\u001b[1;33m(\u001b[0m\u001b[1;34mr'C:\\Users\\emhm\\source\\repos\\ML viz\\ML viz\\AEPrec_sABRe_data_TP8sABR_BILATERAL_2021-Jun-24_14.59.57_MOD_OK.xlsx'\u001b[0m\u001b[1;33m,\u001b[0m \u001b[0msheet_name\u001b[0m\u001b[1;33m=\u001b[0m\u001b[1;34m'L500dBnHL55'\u001b[0m\u001b[1;33m,\u001b[0m \u001b[0mindex_col\u001b[0m\u001b[1;33m=\u001b[0m\u001b[1;36m0\u001b[0m\u001b[1;33m)\u001b[0m\u001b[1;33m\u001b[0m\u001b[1;33m\u001b[0m\u001b[0m\n\u001b[0m\u001b[0;32m      2\u001b[0m \u001b[0mdft\u001b[0m\u001b[1;33m=\u001b[0m\u001b[0mdf\u001b[0m\u001b[1;33m.\u001b[0m\u001b[0mtranspose\u001b[0m\u001b[1;33m(\u001b[0m\u001b[1;33m)\u001b[0m\u001b[1;33m\u001b[0m\u001b[1;33m\u001b[0m\u001b[0m\n\u001b[0;32m      3\u001b[0m \u001b[0mdft\u001b[0m\u001b[1;33m.\u001b[0m\u001b[0mdrop\u001b[0m\u001b[1;33m(\u001b[0m\u001b[1;33m[\u001b[0m\u001b[1;34m'cond_wa (nV)'\u001b[0m\u001b[1;33m,\u001b[0m\u001b[1;34m'rare_wa (nV)'\u001b[0m\u001b[1;33m,\u001b[0m \u001b[1;34m'Fmp_win (msec)'\u001b[0m\u001b[1;33m,\u001b[0m \u001b[1;34m'Fmp'\u001b[0m\u001b[1;33m,\u001b[0m \u001b[1;34m'p'\u001b[0m\u001b[1;33m,\u001b[0m \u001b[1;34m'nSweeps'\u001b[0m\u001b[1;33m,\u001b[0m \u001b[1;34m'RN (nV)'\u001b[0m\u001b[1;33m,\u001b[0m \u001b[1;34m'Display filter'\u001b[0m\u001b[1;33m,\u001b[0m \u001b[1;34m'Nominal rate (Hz)'\u001b[0m\u001b[1;33m,\u001b[0m \u001b[1;34m'Jitter distribution'\u001b[0m\u001b[1;33m,\u001b[0m \u001b[1;34m'Jitter degree'\u001b[0m\u001b[1;33m,\u001b[0m \u001b[1;34m'wave V peak (msec, nV)'\u001b[0m\u001b[1;33m,\u001b[0m \u001b[1;34m'wave V trough (msec, nV)'\u001b[0m\u001b[1;33m,\u001b[0m \u001b[1;34m'Condition'\u001b[0m\u001b[1;33m,\u001b[0m \u001b[1;34m'ABR wave V latency (msec)'\u001b[0m\u001b[1;33m,\u001b[0m \u001b[1;34m'ABR wave V amplitude (nV)'\u001b[0m\u001b[1;33m]\u001b[0m\u001b[1;33m,\u001b[0m \u001b[0minplace\u001b[0m\u001b[1;33m=\u001b[0m\u001b[1;32mTrue\u001b[0m\u001b[1;33m,\u001b[0m \u001b[0maxis\u001b[0m\u001b[1;33m=\u001b[0m\u001b[1;36m1\u001b[0m\u001b[1;33m)\u001b[0m\u001b[1;33m\u001b[0m\u001b[1;33m\u001b[0m\u001b[0m\n\u001b[0;32m      4\u001b[0m \u001b[0mdft\u001b[0m\u001b[1;33m=\u001b[0m\u001b[0mdft\u001b[0m\u001b[1;33m.\u001b[0m\u001b[0mloc\u001b[0m\u001b[1;33m[\u001b[0m\u001b[1;33m:\u001b[0m\u001b[1;33m,\u001b[0m \u001b[0mdft\u001b[0m\u001b[1;33m.\u001b[0m\u001b[0mcolumns\u001b[0m\u001b[1;33m.\u001b[0m\u001b[0mnotna\u001b[0m\u001b[1;33m(\u001b[0m\u001b[1;33m)\u001b[0m\u001b[1;33m]\u001b[0m\u001b[1;33m\u001b[0m\u001b[1;33m\u001b[0m\u001b[0m\n\u001b[0;32m      5\u001b[0m \u001b[0mdft\u001b[0m\u001b[1;33m\u001b[0m\u001b[1;33m\u001b[0m\u001b[0m\n",
      "\u001b[1;32m~\\anaconda3\\lib\\site-packages\\pandas\\util\\_decorators.py\u001b[0m in \u001b[0;36mwrapper\u001b[1;34m(*args, **kwargs)\u001b[0m\n\u001b[0;32m    309\u001b[0m                     \u001b[0mstacklevel\u001b[0m\u001b[1;33m=\u001b[0m\u001b[0mstacklevel\u001b[0m\u001b[1;33m,\u001b[0m\u001b[1;33m\u001b[0m\u001b[1;33m\u001b[0m\u001b[0m\n\u001b[0;32m    310\u001b[0m                 )\n\u001b[1;32m--> 311\u001b[1;33m             \u001b[1;32mreturn\u001b[0m \u001b[0mfunc\u001b[0m\u001b[1;33m(\u001b[0m\u001b[1;33m*\u001b[0m\u001b[0margs\u001b[0m\u001b[1;33m,\u001b[0m \u001b[1;33m**\u001b[0m\u001b[0mkwargs\u001b[0m\u001b[1;33m)\u001b[0m\u001b[1;33m\u001b[0m\u001b[1;33m\u001b[0m\u001b[0m\n\u001b[0m\u001b[0;32m    312\u001b[0m \u001b[1;33m\u001b[0m\u001b[0m\n\u001b[0;32m    313\u001b[0m         \u001b[1;32mreturn\u001b[0m \u001b[0mwrapper\u001b[0m\u001b[1;33m\u001b[0m\u001b[1;33m\u001b[0m\u001b[0m\n",
      "\u001b[1;32m~\\anaconda3\\lib\\site-packages\\pandas\\io\\excel\\_base.py\u001b[0m in \u001b[0;36mread_excel\u001b[1;34m(io, sheet_name, header, names, index_col, usecols, squeeze, dtype, engine, converters, true_values, false_values, skiprows, nrows, na_values, keep_default_na, na_filter, verbose, parse_dates, date_parser, thousands, comment, skipfooter, convert_float, mangle_dupe_cols, storage_options)\u001b[0m\n\u001b[0;32m    362\u001b[0m     \u001b[1;32mif\u001b[0m \u001b[1;32mnot\u001b[0m \u001b[0misinstance\u001b[0m\u001b[1;33m(\u001b[0m\u001b[0mio\u001b[0m\u001b[1;33m,\u001b[0m \u001b[0mExcelFile\u001b[0m\u001b[1;33m)\u001b[0m\u001b[1;33m:\u001b[0m\u001b[1;33m\u001b[0m\u001b[1;33m\u001b[0m\u001b[0m\n\u001b[0;32m    363\u001b[0m         \u001b[0mshould_close\u001b[0m \u001b[1;33m=\u001b[0m \u001b[1;32mTrue\u001b[0m\u001b[1;33m\u001b[0m\u001b[1;33m\u001b[0m\u001b[0m\n\u001b[1;32m--> 364\u001b[1;33m         \u001b[0mio\u001b[0m \u001b[1;33m=\u001b[0m \u001b[0mExcelFile\u001b[0m\u001b[1;33m(\u001b[0m\u001b[0mio\u001b[0m\u001b[1;33m,\u001b[0m \u001b[0mstorage_options\u001b[0m\u001b[1;33m=\u001b[0m\u001b[0mstorage_options\u001b[0m\u001b[1;33m,\u001b[0m \u001b[0mengine\u001b[0m\u001b[1;33m=\u001b[0m\u001b[0mengine\u001b[0m\u001b[1;33m)\u001b[0m\u001b[1;33m\u001b[0m\u001b[1;33m\u001b[0m\u001b[0m\n\u001b[0m\u001b[0;32m    365\u001b[0m     \u001b[1;32melif\u001b[0m \u001b[0mengine\u001b[0m \u001b[1;32mand\u001b[0m \u001b[0mengine\u001b[0m \u001b[1;33m!=\u001b[0m \u001b[0mio\u001b[0m\u001b[1;33m.\u001b[0m\u001b[0mengine\u001b[0m\u001b[1;33m:\u001b[0m\u001b[1;33m\u001b[0m\u001b[1;33m\u001b[0m\u001b[0m\n\u001b[0;32m    366\u001b[0m         raise ValueError(\n",
      "\u001b[1;32m~\\anaconda3\\lib\\site-packages\\pandas\\io\\excel\\_base.py\u001b[0m in \u001b[0;36m__init__\u001b[1;34m(self, path_or_buffer, engine, storage_options)\u001b[0m\n\u001b[0;32m   1189\u001b[0m                 \u001b[0mext\u001b[0m \u001b[1;33m=\u001b[0m \u001b[1;34m\"xls\"\u001b[0m\u001b[1;33m\u001b[0m\u001b[1;33m\u001b[0m\u001b[0m\n\u001b[0;32m   1190\u001b[0m             \u001b[1;32melse\u001b[0m\u001b[1;33m:\u001b[0m\u001b[1;33m\u001b[0m\u001b[1;33m\u001b[0m\u001b[0m\n\u001b[1;32m-> 1191\u001b[1;33m                 ext = inspect_excel_format(\n\u001b[0m\u001b[0;32m   1192\u001b[0m                     \u001b[0mcontent_or_path\u001b[0m\u001b[1;33m=\u001b[0m\u001b[0mpath_or_buffer\u001b[0m\u001b[1;33m,\u001b[0m \u001b[0mstorage_options\u001b[0m\u001b[1;33m=\u001b[0m\u001b[0mstorage_options\u001b[0m\u001b[1;33m\u001b[0m\u001b[1;33m\u001b[0m\u001b[0m\n\u001b[0;32m   1193\u001b[0m                 )\n",
      "\u001b[1;32m~\\anaconda3\\lib\\site-packages\\pandas\\io\\excel\\_base.py\u001b[0m in \u001b[0;36minspect_excel_format\u001b[1;34m(content_or_path, storage_options)\u001b[0m\n\u001b[0;32m   1068\u001b[0m         \u001b[0mcontent_or_path\u001b[0m \u001b[1;33m=\u001b[0m \u001b[0mBytesIO\u001b[0m\u001b[1;33m(\u001b[0m\u001b[0mcontent_or_path\u001b[0m\u001b[1;33m)\u001b[0m\u001b[1;33m\u001b[0m\u001b[1;33m\u001b[0m\u001b[0m\n\u001b[0;32m   1069\u001b[0m \u001b[1;33m\u001b[0m\u001b[0m\n\u001b[1;32m-> 1070\u001b[1;33m     with get_handle(\n\u001b[0m\u001b[0;32m   1071\u001b[0m         \u001b[0mcontent_or_path\u001b[0m\u001b[1;33m,\u001b[0m \u001b[1;34m\"rb\"\u001b[0m\u001b[1;33m,\u001b[0m \u001b[0mstorage_options\u001b[0m\u001b[1;33m=\u001b[0m\u001b[0mstorage_options\u001b[0m\u001b[1;33m,\u001b[0m \u001b[0mis_text\u001b[0m\u001b[1;33m=\u001b[0m\u001b[1;32mFalse\u001b[0m\u001b[1;33m\u001b[0m\u001b[1;33m\u001b[0m\u001b[0m\n\u001b[0;32m   1072\u001b[0m     ) as handle:\n",
      "\u001b[1;32m~\\anaconda3\\lib\\site-packages\\pandas\\io\\common.py\u001b[0m in \u001b[0;36mget_handle\u001b[1;34m(path_or_buf, mode, encoding, compression, memory_map, is_text, errors, storage_options)\u001b[0m\n\u001b[0;32m    709\u001b[0m         \u001b[1;32melse\u001b[0m\u001b[1;33m:\u001b[0m\u001b[1;33m\u001b[0m\u001b[1;33m\u001b[0m\u001b[0m\n\u001b[0;32m    710\u001b[0m             \u001b[1;31m# Binary mode\u001b[0m\u001b[1;33m\u001b[0m\u001b[1;33m\u001b[0m\u001b[0m\n\u001b[1;32m--> 711\u001b[1;33m             \u001b[0mhandle\u001b[0m \u001b[1;33m=\u001b[0m \u001b[0mopen\u001b[0m\u001b[1;33m(\u001b[0m\u001b[0mhandle\u001b[0m\u001b[1;33m,\u001b[0m \u001b[0mioargs\u001b[0m\u001b[1;33m.\u001b[0m\u001b[0mmode\u001b[0m\u001b[1;33m)\u001b[0m\u001b[1;33m\u001b[0m\u001b[1;33m\u001b[0m\u001b[0m\n\u001b[0m\u001b[0;32m    712\u001b[0m         \u001b[0mhandles\u001b[0m\u001b[1;33m.\u001b[0m\u001b[0mappend\u001b[0m\u001b[1;33m(\u001b[0m\u001b[0mhandle\u001b[0m\u001b[1;33m)\u001b[0m\u001b[1;33m\u001b[0m\u001b[1;33m\u001b[0m\u001b[0m\n\u001b[0;32m    713\u001b[0m \u001b[1;33m\u001b[0m\u001b[0m\n",
      "\u001b[1;31mFileNotFoundError\u001b[0m: [Errno 2] No such file or directory: 'C:\\\\Users\\\\emhm\\\\source\\\\repos\\\\ML viz\\\\ML viz\\\\AEPrec_sABRe_data_TP8sABR_BILATERAL_2021-Jun-24_14.59.57_MOD_OK.xlsx'"
     ]
    }
   ],
   "source": [
    "df=pd.read_excel(r'C:\\Users\\emhm\\source\\repos\\ML viz\\ML viz\\AEPrec_sABRe_data_TP8sABR_BILATERAL_2021-Jun-24_14.59.57_MOD_OK.xlsx', sheet_name='L500dBnHL55', index_col=0)\n",
    "dft=df.transpose()\n",
    "dft.drop(['cond_wa (nV)','rare_wa (nV)', 'Fmp_win (msec)', 'Fmp', 'p', 'nSweeps', 'RN (nV)', 'Display filter', 'Nominal rate (Hz)', 'Jitter distribution', 'Jitter degree', 'wave V peak (msec, nV)', 'wave V trough (msec, nV)', 'Condition', 'ABR wave V latency (msec)', 'ABR wave V amplitude (nV)'], inplace=True, axis=1)\n",
    "dft=dft.loc[:, dft.columns.notna()]\n",
    "dft"
   ]
  },
  {
   "cell_type": "code",
   "execution_count": 42,
   "metadata": {},
   "outputs": [
    {
     "data": {
      "text/plain": [
       "<function matplotlib.pyplot.show(close=None, block=None)>"
      ]
     },
     "execution_count": 42,
     "metadata": {},
     "output_type": "execute_result"
    },
    {
     "data": {
      "image/png": "[encoded data removed]",
      "text/plain": [
       "<Figure size 432x288 with 1 Axes>"
      ]
     },
     "metadata": {
      "needs_background": "light"
     },
     "output_type": "display_data"
    }
   ],
   "source": [
    "plt.plot(dft, label='L500dBnHL55')\n",
    "plt.xlabel('Time (msec)')\n",
    "plt.ylabel('ipsi_wa (nV)')\n",
    "plt.title('Left Ear')\n",
    "plt.legend()\n",
    "plt.show"
   ]
  },
  {
   "cell_type": "markdown",
   "metadata": {},
   "source": [
    "## Feature extraction using TSFEL package"
   ]
  },
  {
   "cell_type": "code",
   "execution_count": 43,
   "metadata": {},
   "outputs": [
    {
     "name": "stdout",
     "output_type": "stream",
     "text": [
      "*** Feature extraction started ***\n",
      "60\n"
     ]
    },
    {
     "data": {
      "text/html": [
       "\n",
       "              <p>\n",
       "                  Progress: 100% Complete\n",
       "              <p/>            \n",
       "              <progress\n",
       "                  value='60'\n",
       "                  max='60',\n",
       "                  style='width: 25%',\n",
       "              >\n",
       "                  60\n",
       "              </progress>\n",
       "\n",
       "    "
      ],
      "text/plain": [
       "<IPython.core.display.HTML object>"
      ]
     },
     "metadata": {},
     "output_type": "display_data"
    },
    {
     "name": "stdout",
     "output_type": "stream",
     "text": [
      "\n",
      "*** Feature extraction finished ***\n"
     ]
    }
   ],
   "source": [
    "cfg = tsfel.get_features_by_domain()\n",
    "\n",
    "feature_mitdb = tsfel.time_series_features_extractor(cfg, dft, fs=150)"
   ]
  },
  {
   "cell_type": "code",
   "execution_count": 44,
   "metadata": {},
   "outputs": [
    {
     "data": {
      "text/html": [
       "<div>\n",
       "<style scoped>\n",
       "    .dataframe tbody tr th:only-of-type {\n",
       "        vertical-align: middle;\n",
       "    }\n",
       "\n",
       "    .dataframe tbody tr th {\n",
       "        vertical-align: top;\n",
       "    }\n",
       "\n",
       "    .dataframe thead th {\n",
       "        text-align: right;\n",
       "    }\n",
       "</style>\n",
       "<table border=\"1\" class=\"dataframe\">\n",
       "  <thead>\n",
       "    <tr style=\"text-align: right;\">\n",
       "      <th></th>\n",
       "      <th>0_Absolute energy</th>\n",
       "      <th>0_Area under the curve</th>\n",
       "      <th>0_Autocorrelation</th>\n",
       "      <th>0_Centroid</th>\n",
       "      <th>0_ECDF Percentile Count_0</th>\n",
       "      <th>0_ECDF Percentile Count_1</th>\n",
       "      <th>0_ECDF Percentile_0</th>\n",
       "      <th>0_ECDF Percentile_1</th>\n",
       "      <th>0_ECDF_0</th>\n",
       "      <th>0_ECDF_1</th>\n",
       "      <th>...</th>\n",
       "      <th>1_Wavelet variance_0</th>\n",
       "      <th>1_Wavelet variance_1</th>\n",
       "      <th>1_Wavelet variance_2</th>\n",
       "      <th>1_Wavelet variance_3</th>\n",
       "      <th>1_Wavelet variance_4</th>\n",
       "      <th>1_Wavelet variance_5</th>\n",
       "      <th>1_Wavelet variance_6</th>\n",
       "      <th>1_Wavelet variance_7</th>\n",
       "      <th>1_Wavelet variance_8</th>\n",
       "      <th>1_Zero crossing rate</th>\n",
       "    </tr>\n",
       "  </thead>\n",
       "  <tbody>\n",
       "    <tr>\n",
       "      <th>0</th>\n",
       "      <td>1.154231e+07</td>\n",
       "      <td>607.053144</td>\n",
       "      <td>1.154231e+07</td>\n",
       "      <td>3.300823</td>\n",
       "      <td>192.0</td>\n",
       "      <td>768.0</td>\n",
       "      <td>-125.03273</td>\n",
       "      <td>99.672813</td>\n",
       "      <td>0.001042</td>\n",
       "      <td>0.002083</td>\n",
       "      <td>...</td>\n",
       "      <td>1.004456</td>\n",
       "      <td>20.097681</td>\n",
       "      <td>103.552602</td>\n",
       "      <td>302.552088</td>\n",
       "      <td>647.364699</td>\n",
       "      <td>1138.622882</td>\n",
       "      <td>1756.514774</td>\n",
       "      <td>2470.165849</td>\n",
       "      <td>3238.516706</td>\n",
       "      <td>7.0</td>\n",
       "    </tr>\n",
       "  </tbody>\n",
       "</table>\n",
       "<p>1 rows × 780 columns</p>\n",
       "</div>"
      ],
      "text/plain": [
       "   0_Absolute energy  0_Area under the curve  0_Autocorrelation  0_Centroid  \\\n",
       "0       1.154231e+07              607.053144       1.154231e+07    3.300823   \n",
       "\n",
       "   0_ECDF Percentile Count_0  0_ECDF Percentile Count_1  0_ECDF Percentile_0  \\\n",
       "0                      192.0                      768.0           -125.03273   \n",
       "\n",
       "   0_ECDF Percentile_1  0_ECDF_0  0_ECDF_1  ...  1_Wavelet variance_0  \\\n",
       "0            99.672813  0.001042  0.002083  ...              1.004456   \n",
       "\n",
       "   1_Wavelet variance_1  1_Wavelet variance_2  1_Wavelet variance_3  \\\n",
       "0             20.097681            103.552602            302.552088   \n",
       "\n",
       "   1_Wavelet variance_4  1_Wavelet variance_5  1_Wavelet variance_6  \\\n",
       "0            647.364699           1138.622882           1756.514774   \n",
       "\n",
       "   1_Wavelet variance_7  1_Wavelet variance_8  1_Zero crossing rate  \n",
       "0           2470.165849           3238.516706                   7.0  \n",
       "\n",
       "[1 rows x 780 columns]"
      ]
     },
     "execution_count": 44,
     "metadata": {},
     "output_type": "execute_result"
    }
   ],
   "source": [
    "feature_mitdb"
   ]
  },
  {
   "cell_type": "markdown",
   "metadata": {},
   "source": [
    "### Save the extracted features in a CSV file. This will save your time next time :)"
   ]
  },
  {
   "cell_type": "code",
   "execution_count": 23,
   "metadata": {},
   "outputs": [],
   "source": [
    "feature_mitdb.to_csv(\"feature_mitdb.csv\")"
   ]
  },
  {
   "cell_type": "markdown",
   "metadata": {},
   "source": [
    "#### Once you have saved the extracted features, you only need to import them in future and skip the feature extraction. This way life will be easier :)"
   ]
  },
  {
   "cell_type": "code",
   "execution_count": 31,
   "metadata": {},
   "outputs": [],
   "source": [
    "feature_mitdb = pd.read_csv('feature_mitdb.csv', header='infer')"
   ]
  },
  {
   "cell_type": "markdown",
   "metadata": {},
   "source": [
    "## Feature Selection"
   ]
  },
  {
   "cell_type": "code",
   "execution_count": 11,
   "metadata": {},
   "outputs": [],
   "source": [
    "\n",
    "df=pd.read_excel(r'C:\\Users\\emilh\\Desktop\\Data_split\\AEPrec_sABRe_data_TP1sABR_BILATERAL_2021-Jun-07_10.12.10_MOD_OK.xlsxL2000dBnHL45.xlsx', index_col=0)\n",
    "#df=df.filter(items=[1], axis=1)\n",
    "dft=df.transpose()\n",
    "dft=dft.drop(['cond_wa (nV)','rare_wa (nV)', 'Fmp_win (msec)', 'Fmp', 'p', 'nSweeps', 'RN (nV)', 'Display filter', 'Nominal rate (Hz)', 'Jitter distribution', 'Jitter degree', 'wave V peak (msec, nV)', 'wave V trough (msec, nV)', 'Condition', 'ABR wave V latency (msec)', 'ABR wave V amplitude (nV)'], inplace=True, axis=1)\n",
    "dft\n",
    "#dft.to_excel(\"feature_mitdb.xlsx\")"
   ]
  },
  {
   "cell_type": "code",
   "execution_count": 38,
   "metadata": {},
   "outputs": [
    {
     "data": {
      "text/plain": [
       "<bound method NDFrame.head of Empty DataFrame\n",
       "Columns: []\n",
       "Index: []>"
      ]
     },
     "execution_count": 38,
     "metadata": {},
     "output_type": "execute_result"
    }
   ],
   "source": [
    "path=r'C:\\Users\\emilh\\Desktop\\Data_split'\n",
    "allfiles=glob.glob(path+\"/*.xlsx\")\n",
    "all_data=pd.DataFrame()\n",
    "\n",
    "file_list=[]\n",
    "\n",
    "for files_ in allfiles:\n",
    "    df=pd.read_excel(files_, index_col=0)\n",
    "    dft=df.transpose()\n",
    "    dft1=dft.drop(['cond_wa (nV)','rare_wa (nV)', 'Fmp_win (msec)', 'Fmp', 'p', 'nSweeps', 'RN (nV)', 'Display filter', 'Nominal rate (Hz)', 'Jitter distribution', 'Jitter degree', 'wave V peak (msec, nV)', 'wave V trough (msec, nV)', 'Condition', 'ABR wave V latency (msec)', 'ABR wave V amplitude (nV)'], inplace=True, axis=1)\n",
    "    file=all_data.append(dft1, ignore_index=True)\n",
    "all_data.head"
   ]
  },
  {
   "cell_type": "code",
   "execution_count": 20,
   "metadata": {},
   "outputs": [
    {
     "data": {
      "text/plain": [
       "<bound method NDFrame.head of                     Time (msec) 0.020833333333333332  0.041666666666666664  \\\n",
       "0                  ipsi_wa (nV)            -1.791462             -2.400202   \n",
       "1                  cond_wa (nV)               7.6651              8.921480   \n",
       "2                  rare_wa (nV)           -10.064176            -12.162039   \n",
       "3                contra_wa (nV)            -4.124032             -5.075283   \n",
       "4                           NaN                  NaN                   NaN   \n",
       "...                         ...                  ...                   ...   \n",
       "3195     wave V peak (msec, nV)             5.520833            245.001068   \n",
       "3196   wave V trough (msec, nV)                9.125           -166.141891   \n",
       "3197                  Condition          conABRdis10                   NaN   \n",
       "3198  ABR wave V latency (msec)             5.520833                   NaN   \n",
       "3199  ABR wave V amplitude (nV)            411.14296                   NaN   \n",
       "\n",
       "             0.0625  0.08333333333333333  0.10416666666666667      0.125  \\\n",
       "0         -3.326568            -4.533568            -5.924988  -7.457449   \n",
       "1          9.702589             9.971301             9.925999   9.727838   \n",
       "2        -14.406219           -16.712048           -19.108263 -21.668932   \n",
       "3         -6.005384            -6.925574            -7.925938  -9.011184   \n",
       "4               NaN                  NaN                  NaN        NaN   \n",
       "...             ...                  ...                  ...        ...   \n",
       "3195            NaN                  NaN                  NaN        NaN   \n",
       "3196            NaN                  NaN                  NaN        NaN   \n",
       "3197            NaN                  NaN                  NaN        NaN   \n",
       "3198  Jaime's ratio                  NaN                  NaN        NaN   \n",
       "3199       9.996276                  NaN                  NaN        NaN   \n",
       "\n",
       "      0.14583333333333334  0.16666666666666666     0.1875  ...    19.8125  \\\n",
       "0               -9.093167           -10.652224 -11.876987  ...  35.237003   \n",
       "1                9.413730             9.056437   8.784482  ...  30.183983   \n",
       "2              -24.333429           -26.798368 -28.687485  ...  41.853043   \n",
       "3              -10.022800           -10.722310 -10.966117  ... -37.445591   \n",
       "4                     NaN                  NaN        NaN  ...        NaN   \n",
       "...                   ...                  ...        ...  ...        ...   \n",
       "3195                  NaN                  NaN        NaN  ...        NaN   \n",
       "3196                  NaN                  NaN        NaN  ...        NaN   \n",
       "3197                  NaN                  NaN        NaN  ...        NaN   \n",
       "3198                  NaN                  NaN        NaN  ...        NaN   \n",
       "3199                  NaN                  NaN        NaN  ...        NaN   \n",
       "\n",
       "      19.833333333333332  19.854166666666668     19.875  19.895833333333332  \\\n",
       "0              35.598370           35.721088  35.716442           35.761269   \n",
       "1              30.465452           30.495029  30.073608           29.215517   \n",
       "2              42.173050           42.304272  42.652260           43.534664   \n",
       "3             -36.633781          -36.241547 -36.282585          -36.592979   \n",
       "4                    NaN                 NaN        NaN                 NaN   \n",
       "...                  ...                 ...        ...                 ...   \n",
       "3195                 NaN                 NaN        NaN                 NaN   \n",
       "3196                 NaN                 NaN        NaN                 NaN   \n",
       "3197                 NaN                 NaN        NaN                 NaN   \n",
       "3198                 NaN                 NaN        NaN                 NaN   \n",
       "3199                 NaN                 NaN        NaN                 NaN   \n",
       "\n",
       "      19.916666666666668    19.9375  19.958333333333332  19.979166666666668  \\\n",
       "0              36.137741  37.027374           38.322655           39.658405   \n",
       "1              28.312649  27.755653           27.615978           27.661509   \n",
       "2              45.101994  47.316799           49.896034           52.346710   \n",
       "3             -36.922546 -37.097496          -37.040249          -36.732182   \n",
       "4                    NaN        NaN                 NaN                 NaN   \n",
       "...                  ...        ...                 ...                 ...   \n",
       "3195                 NaN        NaN                 NaN                 NaN   \n",
       "3196                 NaN        NaN                 NaN                 NaN   \n",
       "3197                 NaN        NaN                 NaN                 NaN   \n",
       "3198                 NaN        NaN                 NaN                 NaN   \n",
       "3199                 NaN        NaN                 NaN                 NaN   \n",
       "\n",
       "             20  \n",
       "0     40.639149  \n",
       "1     27.539644  \n",
       "2     54.229916  \n",
       "3    -36.251141  \n",
       "4           NaN  \n",
       "...         ...  \n",
       "3195        NaN  \n",
       "3196        NaN  \n",
       "3197        NaN  \n",
       "3198        NaN  \n",
       "3199        NaN  \n",
       "\n",
       "[3200 rows x 961 columns]>"
      ]
     },
     "execution_count": 20,
     "metadata": {},
     "output_type": "execute_result"
    }
   ],
   "source": [
    "path=r'C:\\Users\\emilh\\Desktop\\Data_split'\n",
    "allfiles=glob.glob(path+\"/*.xlsx\")\n",
    "all_data=pd.DataFrame()\n",
    "\n",
    "for files_ in allfiles:\n",
    "    df=pd.read_excel(files_)\n",
    "    all_data=all_data.append(df, ignore_index=True)\n",
    "\n",
    "all_data.head"
   ]
  },
  {
   "cell_type": "code",
   "execution_count": 15,
   "metadata": {},
   "outputs": [
    {
     "ename": "KeyError",
     "evalue": "\"['cond_wa (nV)' 'rare_wa (nV)' 'Fmp_win (msec)' 'Fmp' 'p' 'nSweeps'\\n 'RN (nV)' 'Display filter' 'Nominal rate (Hz)' 'Jitter distribution'\\n 'Jitter degree' 'wave V peak (msec, nV)' 'wave V trough (msec, nV)'\\n 'Condition' 'ABR wave V latency (msec)' 'ABR wave V amplitude (nV)'] not found in axis\"",
     "output_type": "error",
     "traceback": [
      "\u001b[1;31m---------------------------------------------------------------------------\u001b[0m",
      "\u001b[1;31mKeyError\u001b[0m                                  Traceback (most recent call last)",
      "\u001b[1;32m~\\AppData\\Local\\Temp/ipykernel_27892/3962742261.py\u001b[0m in \u001b[0;36m<module>\u001b[1;34m\u001b[0m\n\u001b[0;32m      6\u001b[0m     \u001b[0mdf\u001b[0m\u001b[1;33m=\u001b[0m\u001b[0mpd\u001b[0m\u001b[1;33m.\u001b[0m\u001b[0mread_excel\u001b[0m\u001b[1;33m(\u001b[0m\u001b[0mfile_\u001b[0m\u001b[1;33m,\u001b[0m \u001b[0mindex_col\u001b[0m\u001b[1;33m=\u001b[0m\u001b[1;32mNone\u001b[0m\u001b[1;33m)\u001b[0m\u001b[1;33m\u001b[0m\u001b[1;33m\u001b[0m\u001b[0m\n\u001b[0;32m      7\u001b[0m     \u001b[0mdft\u001b[0m\u001b[1;33m=\u001b[0m\u001b[0mdf\u001b[0m\u001b[1;33m.\u001b[0m\u001b[0mtranspose\u001b[0m\u001b[1;33m(\u001b[0m\u001b[1;33m)\u001b[0m\u001b[1;33m\u001b[0m\u001b[1;33m\u001b[0m\u001b[0m\n\u001b[1;32m----> 8\u001b[1;33m     \u001b[0mdft\u001b[0m\u001b[1;33m.\u001b[0m\u001b[0mdrop\u001b[0m\u001b[1;33m(\u001b[0m\u001b[1;33m[\u001b[0m\u001b[1;34m'cond_wa (nV)'\u001b[0m\u001b[1;33m,\u001b[0m\u001b[1;34m'rare_wa (nV)'\u001b[0m\u001b[1;33m,\u001b[0m \u001b[1;34m'Fmp_win (msec)'\u001b[0m\u001b[1;33m,\u001b[0m \u001b[1;34m'Fmp'\u001b[0m\u001b[1;33m,\u001b[0m \u001b[1;34m'p'\u001b[0m\u001b[1;33m,\u001b[0m \u001b[1;34m'nSweeps'\u001b[0m\u001b[1;33m,\u001b[0m \u001b[1;34m'RN (nV)'\u001b[0m\u001b[1;33m,\u001b[0m \u001b[1;34m'Display filter'\u001b[0m\u001b[1;33m,\u001b[0m \u001b[1;34m'Nominal rate (Hz)'\u001b[0m\u001b[1;33m,\u001b[0m \u001b[1;34m'Jitter distribution'\u001b[0m\u001b[1;33m,\u001b[0m \u001b[1;34m'Jitter degree'\u001b[0m\u001b[1;33m,\u001b[0m \u001b[1;34m'wave V peak (msec, nV)'\u001b[0m\u001b[1;33m,\u001b[0m \u001b[1;34m'wave V trough (msec, nV)'\u001b[0m\u001b[1;33m,\u001b[0m \u001b[1;34m'Condition'\u001b[0m\u001b[1;33m,\u001b[0m \u001b[1;34m'ABR wave V latency (msec)'\u001b[0m\u001b[1;33m,\u001b[0m \u001b[1;34m'ABR wave V amplitude (nV)'\u001b[0m\u001b[1;33m]\u001b[0m\u001b[1;33m,\u001b[0m \u001b[0minplace\u001b[0m\u001b[1;33m=\u001b[0m\u001b[1;32mTrue\u001b[0m\u001b[1;33m,\u001b[0m \u001b[0maxis\u001b[0m\u001b[1;33m=\u001b[0m\u001b[1;36m1\u001b[0m\u001b[1;33m)\u001b[0m\u001b[1;33m\u001b[0m\u001b[1;33m\u001b[0m\u001b[0m\n\u001b[0m\u001b[0;32m      9\u001b[0m     \u001b[0mdft\u001b[0m\u001b[1;33m=\u001b[0m\u001b[0mdft\u001b[0m\u001b[1;33m.\u001b[0m\u001b[0mloc\u001b[0m\u001b[1;33m[\u001b[0m\u001b[1;33m:\u001b[0m\u001b[1;33m,\u001b[0m \u001b[0mdft\u001b[0m\u001b[1;33m.\u001b[0m\u001b[0mcolumns\u001b[0m\u001b[1;33m.\u001b[0m\u001b[0mnotna\u001b[0m\u001b[1;33m(\u001b[0m\u001b[1;33m)\u001b[0m\u001b[1;33m]\u001b[0m\u001b[1;33m\u001b[0m\u001b[1;33m\u001b[0m\u001b[0m\n\u001b[0;32m     10\u001b[0m \u001b[1;33m\u001b[0m\u001b[0m\n",
      "\u001b[1;32m~\\anaconda3\\lib\\site-packages\\pandas\\util\\_decorators.py\u001b[0m in \u001b[0;36mwrapper\u001b[1;34m(*args, **kwargs)\u001b[0m\n\u001b[0;32m    309\u001b[0m                     \u001b[0mstacklevel\u001b[0m\u001b[1;33m=\u001b[0m\u001b[0mstacklevel\u001b[0m\u001b[1;33m,\u001b[0m\u001b[1;33m\u001b[0m\u001b[1;33m\u001b[0m\u001b[0m\n\u001b[0;32m    310\u001b[0m                 )\n\u001b[1;32m--> 311\u001b[1;33m             \u001b[1;32mreturn\u001b[0m \u001b[0mfunc\u001b[0m\u001b[1;33m(\u001b[0m\u001b[1;33m*\u001b[0m\u001b[0margs\u001b[0m\u001b[1;33m,\u001b[0m \u001b[1;33m**\u001b[0m\u001b[0mkwargs\u001b[0m\u001b[1;33m)\u001b[0m\u001b[1;33m\u001b[0m\u001b[1;33m\u001b[0m\u001b[0m\n\u001b[0m\u001b[0;32m    312\u001b[0m \u001b[1;33m\u001b[0m\u001b[0m\n\u001b[0;32m    313\u001b[0m         \u001b[1;32mreturn\u001b[0m \u001b[0mwrapper\u001b[0m\u001b[1;33m\u001b[0m\u001b[1;33m\u001b[0m\u001b[0m\n",
      "\u001b[1;32m~\\anaconda3\\lib\\site-packages\\pandas\\core\\frame.py\u001b[0m in \u001b[0;36mdrop\u001b[1;34m(self, labels, axis, index, columns, level, inplace, errors)\u001b[0m\n\u001b[0;32m   4904\u001b[0m                 \u001b[0mweight\u001b[0m  \u001b[1;36m1.0\u001b[0m     \u001b[1;36m0.8\u001b[0m\u001b[1;33m\u001b[0m\u001b[1;33m\u001b[0m\u001b[0m\n\u001b[0;32m   4905\u001b[0m         \"\"\"\n\u001b[1;32m-> 4906\u001b[1;33m         return super().drop(\n\u001b[0m\u001b[0;32m   4907\u001b[0m             \u001b[0mlabels\u001b[0m\u001b[1;33m=\u001b[0m\u001b[0mlabels\u001b[0m\u001b[1;33m,\u001b[0m\u001b[1;33m\u001b[0m\u001b[1;33m\u001b[0m\u001b[0m\n\u001b[0;32m   4908\u001b[0m             \u001b[0maxis\u001b[0m\u001b[1;33m=\u001b[0m\u001b[0maxis\u001b[0m\u001b[1;33m,\u001b[0m\u001b[1;33m\u001b[0m\u001b[1;33m\u001b[0m\u001b[0m\n",
      "\u001b[1;32m~\\anaconda3\\lib\\site-packages\\pandas\\core\\generic.py\u001b[0m in \u001b[0;36mdrop\u001b[1;34m(self, labels, axis, index, columns, level, inplace, errors)\u001b[0m\n\u001b[0;32m   4148\u001b[0m         \u001b[1;32mfor\u001b[0m \u001b[0maxis\u001b[0m\u001b[1;33m,\u001b[0m \u001b[0mlabels\u001b[0m \u001b[1;32min\u001b[0m \u001b[0maxes\u001b[0m\u001b[1;33m.\u001b[0m\u001b[0mitems\u001b[0m\u001b[1;33m(\u001b[0m\u001b[1;33m)\u001b[0m\u001b[1;33m:\u001b[0m\u001b[1;33m\u001b[0m\u001b[1;33m\u001b[0m\u001b[0m\n\u001b[0;32m   4149\u001b[0m             \u001b[1;32mif\u001b[0m \u001b[0mlabels\u001b[0m \u001b[1;32mis\u001b[0m \u001b[1;32mnot\u001b[0m \u001b[1;32mNone\u001b[0m\u001b[1;33m:\u001b[0m\u001b[1;33m\u001b[0m\u001b[1;33m\u001b[0m\u001b[0m\n\u001b[1;32m-> 4150\u001b[1;33m                 \u001b[0mobj\u001b[0m \u001b[1;33m=\u001b[0m \u001b[0mobj\u001b[0m\u001b[1;33m.\u001b[0m\u001b[0m_drop_axis\u001b[0m\u001b[1;33m(\u001b[0m\u001b[0mlabels\u001b[0m\u001b[1;33m,\u001b[0m \u001b[0maxis\u001b[0m\u001b[1;33m,\u001b[0m \u001b[0mlevel\u001b[0m\u001b[1;33m=\u001b[0m\u001b[0mlevel\u001b[0m\u001b[1;33m,\u001b[0m \u001b[0merrors\u001b[0m\u001b[1;33m=\u001b[0m\u001b[0merrors\u001b[0m\u001b[1;33m)\u001b[0m\u001b[1;33m\u001b[0m\u001b[1;33m\u001b[0m\u001b[0m\n\u001b[0m\u001b[0;32m   4151\u001b[0m \u001b[1;33m\u001b[0m\u001b[0m\n\u001b[0;32m   4152\u001b[0m         \u001b[1;32mif\u001b[0m \u001b[0minplace\u001b[0m\u001b[1;33m:\u001b[0m\u001b[1;33m\u001b[0m\u001b[1;33m\u001b[0m\u001b[0m\n",
      "\u001b[1;32m~\\anaconda3\\lib\\site-packages\\pandas\\core\\generic.py\u001b[0m in \u001b[0;36m_drop_axis\u001b[1;34m(self, labels, axis, level, errors)\u001b[0m\n\u001b[0;32m   4183\u001b[0m                 \u001b[0mnew_axis\u001b[0m \u001b[1;33m=\u001b[0m \u001b[0maxis\u001b[0m\u001b[1;33m.\u001b[0m\u001b[0mdrop\u001b[0m\u001b[1;33m(\u001b[0m\u001b[0mlabels\u001b[0m\u001b[1;33m,\u001b[0m \u001b[0mlevel\u001b[0m\u001b[1;33m=\u001b[0m\u001b[0mlevel\u001b[0m\u001b[1;33m,\u001b[0m \u001b[0merrors\u001b[0m\u001b[1;33m=\u001b[0m\u001b[0merrors\u001b[0m\u001b[1;33m)\u001b[0m\u001b[1;33m\u001b[0m\u001b[1;33m\u001b[0m\u001b[0m\n\u001b[0;32m   4184\u001b[0m             \u001b[1;32melse\u001b[0m\u001b[1;33m:\u001b[0m\u001b[1;33m\u001b[0m\u001b[1;33m\u001b[0m\u001b[0m\n\u001b[1;32m-> 4185\u001b[1;33m                 \u001b[0mnew_axis\u001b[0m \u001b[1;33m=\u001b[0m \u001b[0maxis\u001b[0m\u001b[1;33m.\u001b[0m\u001b[0mdrop\u001b[0m\u001b[1;33m(\u001b[0m\u001b[0mlabels\u001b[0m\u001b[1;33m,\u001b[0m \u001b[0merrors\u001b[0m\u001b[1;33m=\u001b[0m\u001b[0merrors\u001b[0m\u001b[1;33m)\u001b[0m\u001b[1;33m\u001b[0m\u001b[1;33m\u001b[0m\u001b[0m\n\u001b[0m\u001b[0;32m   4186\u001b[0m             \u001b[0mresult\u001b[0m \u001b[1;33m=\u001b[0m \u001b[0mself\u001b[0m\u001b[1;33m.\u001b[0m\u001b[0mreindex\u001b[0m\u001b[1;33m(\u001b[0m\u001b[1;33m**\u001b[0m\u001b[1;33m{\u001b[0m\u001b[0maxis_name\u001b[0m\u001b[1;33m:\u001b[0m \u001b[0mnew_axis\u001b[0m\u001b[1;33m}\u001b[0m\u001b[1;33m)\u001b[0m\u001b[1;33m\u001b[0m\u001b[1;33m\u001b[0m\u001b[0m\n\u001b[0;32m   4187\u001b[0m \u001b[1;33m\u001b[0m\u001b[0m\n",
      "\u001b[1;32m~\\anaconda3\\lib\\site-packages\\pandas\\core\\indexes\\base.py\u001b[0m in \u001b[0;36mdrop\u001b[1;34m(self, labels, errors)\u001b[0m\n\u001b[0;32m   6015\u001b[0m         \u001b[1;32mif\u001b[0m \u001b[0mmask\u001b[0m\u001b[1;33m.\u001b[0m\u001b[0many\u001b[0m\u001b[1;33m(\u001b[0m\u001b[1;33m)\u001b[0m\u001b[1;33m:\u001b[0m\u001b[1;33m\u001b[0m\u001b[1;33m\u001b[0m\u001b[0m\n\u001b[0;32m   6016\u001b[0m             \u001b[1;32mif\u001b[0m \u001b[0merrors\u001b[0m \u001b[1;33m!=\u001b[0m \u001b[1;34m\"ignore\"\u001b[0m\u001b[1;33m:\u001b[0m\u001b[1;33m\u001b[0m\u001b[1;33m\u001b[0m\u001b[0m\n\u001b[1;32m-> 6017\u001b[1;33m                 \u001b[1;32mraise\u001b[0m \u001b[0mKeyError\u001b[0m\u001b[1;33m(\u001b[0m\u001b[1;34mf\"{labels[mask]} not found in axis\"\u001b[0m\u001b[1;33m)\u001b[0m\u001b[1;33m\u001b[0m\u001b[1;33m\u001b[0m\u001b[0m\n\u001b[0m\u001b[0;32m   6018\u001b[0m             \u001b[0mindexer\u001b[0m \u001b[1;33m=\u001b[0m \u001b[0mindexer\u001b[0m\u001b[1;33m[\u001b[0m\u001b[1;33m~\u001b[0m\u001b[0mmask\u001b[0m\u001b[1;33m]\u001b[0m\u001b[1;33m\u001b[0m\u001b[1;33m\u001b[0m\u001b[0m\n\u001b[0;32m   6019\u001b[0m         \u001b[1;32mreturn\u001b[0m \u001b[0mself\u001b[0m\u001b[1;33m.\u001b[0m\u001b[0mdelete\u001b[0m\u001b[1;33m(\u001b[0m\u001b[0mindexer\u001b[0m\u001b[1;33m)\u001b[0m\u001b[1;33m\u001b[0m\u001b[1;33m\u001b[0m\u001b[0m\n",
      "\u001b[1;31mKeyError\u001b[0m: \"['cond_wa (nV)' 'rare_wa (nV)' 'Fmp_win (msec)' 'Fmp' 'p' 'nSweeps'\\n 'RN (nV)' 'Display filter' 'Nominal rate (Hz)' 'Jitter distribution'\\n 'Jitter degree' 'wave V peak (msec, nV)' 'wave V trough (msec, nV)'\\n 'Condition' 'ABR wave V latency (msec)' 'ABR wave V amplitude (nV)'] not found in axis\""
     ]
    }
   ],
   "source": [
    "path=r'C:\\Users\\emilh\\Desktop\\Data_split'\n",
    "allfiles=glob.glob(path+\"/*.xlsx\")\n",
    "\n",
    "list = []\n",
    "for file_ in allfiles:\n",
    "    dft=pd.read_excel(file_, index_col=None)\n",
    "    dft=dft.transpose()\n",
    "    dft.drop(['cond_wa (nV)','rare_wa (nV)', 'Fmp_win (msec)', 'Fmp', 'p', 'nSweeps', 'RN (nV)', 'Display filter', 'Nominal rate (Hz)', 'Jitter distribution', 'Jitter degree', 'wave V peak (msec, nV)', 'wave V trough (msec, nV)', 'Condition', 'ABR wave V latency (msec)', 'ABR wave V amplitude (nV)'], inplace=True, axis=1)\n",
    "    dft=dft.loc[:, dft.columns.notna()]\n",
    "\n",
    "    df['final_data']=file_\n",
    "    df.index(len(df))\n",
    "\n",
    "    index_start=df[df.iloc[:,0]=='ipsi_wa (nV)'].index.values.astype(float)"
   ]
  },
  {
   "cell_type": "code",
   "execution_count": 32,
   "metadata": {},
   "outputs": [
    {
     "name": "stdout",
     "output_type": "stream",
     "text": [
      "Target variable:\n",
      " 0.020833      7.217339\n",
      "0.041667      8.781087\n",
      "0.062500     10.215491\n",
      "0.083333     11.599972\n",
      "0.104167     12.816255\n",
      "               ...    \n",
      "19.916667    28.773983\n",
      "19.937500    29.527588\n",
      "19.958333    30.286467\n",
      "19.979167    30.911253\n",
      "20.000000    31.255436\n",
      "Name: ipsi_wa (nV), Length: 960, dtype: object\n",
      "Predictive features:\n",
      " Time (msec) contra_wa (nV)\n",
      "0.020833        -11.327547\n",
      "0.041667         -15.45183\n",
      "0.062500        -20.259748\n",
      "0.083333        -25.537067\n",
      "0.104167        -30.797749\n",
      "...                    ...\n",
      "19.916667        13.993834\n",
      "19.937500        15.233068\n",
      "19.958333         16.03651\n",
      "19.979167        16.489119\n",
      "20.000000         16.68643\n",
      "\n",
      "[960 rows x 1 columns]\n"
     ]
    },
    {
     "data": {
      "text/plain": [
       " 7.217339     1\n",
       " 8.781087     1\n",
       "-61.653622    1\n",
       "-59.663967    1\n",
       "-56.998756    1\n",
       "             ..\n",
       " 67.928810    1\n",
       " 64.058456    1\n",
       " 59.374973    1\n",
       " 53.937763    1\n",
       " 31.255436    1\n",
       "Name: ipsi_wa (nV), Length: 960, dtype: int64"
      ]
     },
     "execution_count": 32,
     "metadata": {},
     "output_type": "execute_result"
    }
   ],
   "source": [
    "y=dft.loc[:, 'ipsi_wa (nV)']\n",
    "X=dft.drop('ipsi_wa (nV)', axis=1)\n",
    "print(\"Target variable:\\n\", y)\n",
    "print(\"Predictive features:\\n\", X)\n",
    "y.value_counts()"
   ]
  },
  {
   "cell_type": "code",
   "execution_count": 26,
   "metadata": {},
   "outputs": [
    {
     "name": "stdout",
     "output_type": "stream",
     "text": [
      "              precision    recall  f1-score   support\n",
      "\n",
      "           0       0.92      0.80      0.86        15\n",
      "           1       0.75      0.90      0.82        10\n",
      "\n",
      "    accuracy                           0.84        25\n",
      "   macro avg       0.84      0.85      0.84        25\n",
      "weighted avg       0.85      0.84      0.84        25\n",
      "\n"
     ]
    }
   ],
   "source": [
    "#set_config(display=\"diagram\")\n",
    "\n",
    "X, y = make_classification(\n",
    "    n_features=20,\n",
    "    n_informative=3,\n",
    "    n_redundant=0,\n",
    "    n_classes=2,\n",
    "    n_clusters_per_class=2,\n",
    "    random_state=42,\n",
    ")\n",
    "X_train, X_test, y_train, y_test = train_test_split(X, y, random_state=42)\n",
    "\n",
    "anova_filter=SelectKBest(f_classif, k=3)\n",
    "clf=LinearSVC()\n",
    "anova_svm=make_pipeline(anova_filter, clf)\n",
    "anova_svm.fit(X_train, y_train)\n",
    "\n",
    "y_pred=anova_svm.predict(X_test)\n",
    "print (classification_report(y_test, y_pred))"
   ]
  },
  {
   "cell_type": "code",
   "execution_count": 36,
   "metadata": {},
   "outputs": [
    {
     "ename": "TypeError",
     "evalue": "fit() missing 1 required positional argument: 'y'",
     "output_type": "error",
     "traceback": [
      "\u001b[1;31m---------------------------------------------------------------------------\u001b[0m",
      "\u001b[1;31mTypeError\u001b[0m                                 Traceback (most recent call last)",
      "\u001b[1;32mc:\\Users\\emhm\\Desktop\\Feature_extraction.ipynb Cell 17'\u001b[0m in \u001b[0;36m<module>\u001b[1;34m\u001b[0m\n\u001b[0;32m      <a href='vscode-notebook-cell:/c%3A/Users/emhm/Desktop/Feature_extraction.ipynb#ch0000015?line=0'>1</a>\u001b[0m threshold\u001b[39m=\u001b[39m\u001b[39m20\u001b[39m\n\u001b[0;32m      <a href='vscode-notebook-cell:/c%3A/Users/emhm/Desktop/Feature_extraction.ipynb#ch0000015?line=1'>2</a>\u001b[0m skb\u001b[39m=\u001b[39mSelectKBest(score_func\u001b[39m=\u001b[39mchi2, k\u001b[39m=\u001b[39mthreshold)\n\u001b[1;32m----> <a href='vscode-notebook-cell:/c%3A/Users/emhm/Desktop/Feature_extraction.ipynb#ch0000015?line=2'>3</a>\u001b[0m sel_skb\u001b[39m=\u001b[39mskb\u001b[39m.\u001b[39;49mfit(feature_mitdb)\n\u001b[0;32m      <a href='vscode-notebook-cell:/c%3A/Users/emhm/Desktop/Feature_extraction.ipynb#ch0000015?line=3'>4</a>\u001b[0m sel_skb_index\u001b[39m=\u001b[39msel_skb\u001b[39m.\u001b[39mget_support()\n\u001b[0;32m      <a href='vscode-notebook-cell:/c%3A/Users/emhm/Desktop/Feature_extraction.ipynb#ch0000015?line=4'>5</a>\u001b[0m feature_mitdb_skb\u001b[39m=\u001b[39mfeature_mitdb\u001b[39m.\u001b[39miloc[:, sel_skb_index]\n",
      "\u001b[1;31mTypeError\u001b[0m: fit() missing 1 required positional argument: 'y'"
     ]
    }
   ],
   "source": [
    "threshold=20\n",
    "skb=SelectKBest(score_func=chi2, k=threshold)\n",
    "sel_skb=skb.fit(feature_mitdb)\n",
    "sel_skb_index=sel_skb.get_support()\n",
    "feature_mitdb_skb=feature_mitdb.iloc[:, sel_skb_index]\n",
    "print('p-values', sel_skb.pvalues_)\n",
    "print(feature_mitdb_skb.columns)"
   ]
  },
  {
   "cell_type": "markdown",
   "metadata": {},
   "source": [
    "## Accuracy Functions"
   ]
  },
  {
   "cell_type": "markdown",
   "metadata": {},
   "source": [
    "### Confussion matrix"
   ]
  },
  {
   "cell_type": "code",
   "execution_count": null,
   "metadata": {},
   "outputs": [],
   "source": [
    "def get_confusion_matrix(y, y_pred, model):\n",
    "    conf_matrix=confusion_matrix(y, y_pred)\n",
    "    # Mangler nedenstående \n",
    "    df_cm = pd.DataFrame(conf_matrix,index = ['Alive','Dead'], columns = ['Alive','Dead'])\n",
    "    sns.set(font_scale = 1.4)\n",
    "    sns.heatmap(df_cm, annot = True, cmap = 'OrRd', fmt = 'g', annot_kws={\"size\": 16}) # font size\n",
    "    plt.ylabel('True labels')\n",
    "    plt.xlabel('Predicted labels')\n",
    "    plt.title('%s - Confusion Matrix' %model)\n",
    "    #plt.savefig('confusion_matrix.png', dpi = 100, bbox_inches='tight' )\n",
    "    plt.show()\n",
    "    plt.close()\n",
    "\n",
    "    return conf_matrix\n",
    "\n",
    "def get_confusion_matrix(y, y_pred, model):\n",
    "    conf_matrix=confusion_matrix(y, y_pred)\n",
    "    # Mangler nedenstående \n",
    "    df_cm = pd.DataFrame(conf_matrix,index = ['Alive','Dead'], columns = ['Alive','Dead'])\n",
    "    sns.set(font_scale = 1.4)\n",
    "    sns.heatmap(df_cm, annot = True, cmap = 'OrRd', fmt = 'g', annot_kws={\"size\": 16}) # font size\n",
    "    plt.ylabel('True labels')\n",
    "    plt.xlabel('Predicted labels')\n",
    "    plt.title('%s - Confusion Matrix' %model)\n",
    "    #plt.savefig('confusion_matrix.png', dpi = 100, bbox_inches='tight' )\n",
    "    plt.show()\n",
    "    plt.close()\n",
    "\n",
    "    return conf_matrix"
   ]
  },
  {
   "cell_type": "code",
   "execution_count": null,
   "metadata": {},
   "outputs": [],
   "source": [
    "# Based on Sensitivity and Recall \n",
    "# https://bmcgenomics.biomedcentral.com/articles/10.1186/s12864-019-6413-7\n",
    "def get_matthews_corrcoef(y_pred, y_true):\n",
    "    cov = np.cov(y_true, y_pred)\n",
    "    if cov[0,0]==0. or cov[1,1]==0.:\n",
    "        return 0.\n",
    "    else:\n",
    "        return cov[0,1]/np.sqrt(cov[0,0]*cov[1,1]) \n",
    "    \n",
    "    \n",
    "# Precision-Recall curve to evaluate a model\n",
    "# PR curves are specifically tailored for the detection of rare events\n",
    "def get_precision_recall_curve(y_true, y_pred):\n",
    "    #precision, recall, thresholds = precision_recall_curve(y_test, probs)\n",
    "    return plot_precision_recall_curve(classifier, X_test, y_test)\n",
    "  \n",
    "    \n",
    "    \n",
    "# ROC curves can sometimes be misleading in some very imbalanced applications\n",
    "def get_roc_curve(y_true, y_pred_proba, model):\n",
    "    \n",
    "    #keep probabilities for the positive outcome only\n",
    "    y_pred_proba = y_pred_proba[:,1]\n",
    "    fpr, tpr, thresholds = roc_curve(y_true, y_pred_proba)\n",
    "    \n",
    "    auc = roc_auc_score(y_true, y_pred_proba)\n",
    "    print('ROC AUC=%.3f' % (auc))\n",
    "    \n",
    "    plt.plot([0,1],[0,1],linestyle = '--',lw = 0.8,color = 'black', label='Luck')\n",
    "    plt.plot(fpr, tpr, marker='.', lw=2, color='red', label=r'ROC (AUC = %0.3f )' % (auc))\n",
    "    plt.xlabel('False Positive Rate')\n",
    "    plt.ylabel('True Positive Rate')\n",
    "    plt.title(r'%s - ROC curve' % (model))\n",
    "    plt.legend(loc = 'lower right')\n",
    "    plt.show()\n",
    "    \n",
    "    return auc"
   ]
  },
  {
   "cell_type": "markdown",
   "metadata": {},
   "source": [
    "## Randomforrest classsifer"
   ]
  },
  {
   "cell_type": "code",
   "execution_count": null,
   "metadata": {},
   "outputs": [],
   "source": [
    "# Step1: Create data set\n",
    "X, y = make_moons(n_samples=10000, noise=.5, random_state=0)\n",
    "\n",
    "# Step2: Split the training test set\n",
    "X_train, X_test, y_train, y_test = train_test_split(X, y, test_size=0.2, random_state=42)\n",
    "\n",
    "# Step 3: Fit a Decision Tree model as comparison\n",
    "clf = DecisionTreeClassifier()\n",
    "clf.fit(X_train, y_train)\n",
    "y_pred = clf.predict(X_test)\n",
    "accuracy_score(y_test, y_pred)\n",
    "OUTPUT: 0.756\n",
    "    \n",
    "# Step 4: Fit a Random Forest model, \" compared to \"Decision Tree model, accuracy go up by 5%\n",
    "clf = RandomForestClassifier(n_estimators=100, max_features=\"auto\",random_state=0)\n",
    "clf.fit(X_train, y_train)\n",
    "y_pred = clf.predict(X_test)\n",
    "accuracy_score(y_test, y_pred)\n",
    "OUTPUT: 0.797\n",
    "    \n",
    "# Step 5: Fit a AdaBoost model, \" compared to \"Decision Tree model, accuracy go up by 10%\n",
    "clf = AdaBoostClassifier(n_estimators=100)\n",
    "clf.fit(X_train, y_train)\n",
    "y_pred = clf.predict(X_test)\n",
    "accuracy_score(y_test, y_pred)\n",
    "OUTPUT:0.833\n",
    "    \n",
    "# Step 6: Fit a Gradient Boosting model, \" compared to \"Decision Tree model, accuracy go up by 10%\n",
    "clf = GradientBoostingClassifier(n_estimators=100)\n",
    "clf.fit(X_train, y_train)\n",
    "y_pred = clf.predict(X_test)\n",
    "accuracy_score(y_test, y_pred)\n"
   ]
  }
 ],
 "metadata": {
  "kernelspec": {
   "display_name": "Python 3 (ipykernel)",
   "language": "python",
   "name": "python3"
  },
  "language_info": {
   "codemirror_mode": {
    "name": "ipython",
    "version": 3
   },
   "file_extension": ".py",
   "mimetype": "text/x-python",
   "name": "python",
   "nbconvert_exporter": "python",
   "pygments_lexer": "ipython3",
   "version": "3.9.7"
  }
 },
 "nbformat": 4,
 "nbformat_minor": 4
}
