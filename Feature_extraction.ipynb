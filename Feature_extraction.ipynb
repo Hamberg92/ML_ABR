{
 "cells": [
  {
   "cell_type": "markdown",
   "metadata": {},
   "source": [
    "## Install and import necessary packages"
   ]
  },
  {
   "cell_type": "code",
   "execution_count": 1,
   "metadata": {},
   "outputs": [
    {
     "name": "stdout",
     "output_type": "stream",
     "text": [
      "Collecting tsfel\n",
      "  Downloading tsfel-0.1.4-py3-none-any.whl (46 kB)\n",
      "Collecting oauth2client>=4.1.3\n",
      "  Downloading oauth2client-4.1.3-py2.py3-none-any.whl (98 kB)\n",
      "Requirement already satisfied: scipy>=1.5.1 in c:\\users\\emhm\\anaconda3\\lib\\site-packages (from tsfel) (1.7.1)\n",
      "Requirement already satisfied: setuptools>=47.1.1 in c:\\users\\emhm\\anaconda3\\lib\\site-packages (from tsfel) (58.0.4)\n",
      "Requirement already satisfied: numpy>=1.18.5 in c:\\users\\emhm\\anaconda3\\lib\\site-packages (from tsfel) (1.20.3)\n",
      "Collecting gspread>=3.1.0\n",
      "  Downloading gspread-5.2.0-py3-none-any.whl (32 kB)\n",
      "Requirement already satisfied: Sphinx>=1.8.5 in c:\\users\\emhm\\anaconda3\\lib\\site-packages (from tsfel) (4.2.0)\n",
      "Requirement already satisfied: ipython>=7.4.0 in c:\\users\\emhm\\anaconda3\\lib\\site-packages (from tsfel) (7.29.0)\n",
      "Requirement already satisfied: pandas>=0.25.3 in c:\\users\\emhm\\anaconda3\\lib\\site-packages (from tsfel) (1.3.4)\n",
      "Collecting google-auth>=1.12.0\n",
      "  Downloading google_auth-2.6.2-py2.py3-none-any.whl (156 kB)\n",
      "Collecting google-auth-oauthlib>=0.4.1\n",
      "  Downloading google_auth_oauthlib-0.5.1-py2.py3-none-any.whl (19 kB)\n",
      "Collecting pyasn1-modules>=0.2.1\n",
      "  Downloading pyasn1_modules-0.2.8-py2.py3-none-any.whl (155 kB)\n",
      "Collecting rsa<5,>=3.1.4\n",
      "  Downloading rsa-4.8-py3-none-any.whl (39 kB)\n",
      "Requirement already satisfied: six>=1.9.0 in c:\\users\\emhm\\anaconda3\\lib\\site-packages (from google-auth>=1.12.0->gspread>=3.1.0->tsfel) (1.16.0)\n",
      "Collecting cachetools<6.0,>=2.0.0\n",
      "  Downloading cachetools-5.0.0-py3-none-any.whl (9.1 kB)\n",
      "Collecting requests-oauthlib>=0.7.0\n",
      "  Downloading requests_oauthlib-1.3.1-py2.py3-none-any.whl (23 kB)\n",
      "Requirement already satisfied: backcall in c:\\users\\emhm\\anaconda3\\lib\\site-packages (from ipython>=7.4.0->tsfel) (0.2.0)\n",
      "Requirement already satisfied: colorama in c:\\users\\emhm\\anaconda3\\lib\\site-packages (from ipython>=7.4.0->tsfel) (0.4.4)\n",
      "Requirement already satisfied: traitlets>=4.2 in c:\\users\\emhm\\anaconda3\\lib\\site-packages (from ipython>=7.4.0->tsfel) (5.1.0)\n",
      "Requirement already satisfied: decorator in c:\\users\\emhm\\anaconda3\\lib\\site-packages (from ipython>=7.4.0->tsfel) (5.1.0)\n",
      "Requirement already satisfied: pygments in c:\\users\\emhm\\anaconda3\\lib\\site-packages (from ipython>=7.4.0->tsfel) (2.10.0)\n",
      "Requirement already satisfied: prompt-toolkit!=3.0.0,!=3.0.1,<3.1.0,>=2.0.0 in c:\\users\\emhm\\anaconda3\\lib\\site-packages (from ipython>=7.4.0->tsfel) (3.0.20)\n",
      "Requirement already satisfied: jedi>=0.16 in c:\\users\\emhm\\anaconda3\\lib\\site-packages (from ipython>=7.4.0->tsfel) (0.18.0)\n",
      "Requirement already satisfied: matplotlib-inline in c:\\users\\emhm\\anaconda3\\lib\\site-packages (from ipython>=7.4.0->tsfel) (0.1.2)\n",
      "Requirement already satisfied: pickleshare in c:\\users\\emhm\\anaconda3\\lib\\site-packages (from ipython>=7.4.0->tsfel) (0.7.5)\n",
      "Requirement already satisfied: parso<0.9.0,>=0.8.0 in c:\\users\\emhm\\anaconda3\\lib\\site-packages (from jedi>=0.16->ipython>=7.4.0->tsfel) (0.8.2)\n",
      "Collecting httplib2>=0.9.1\n",
      "  Downloading httplib2-0.20.4-py3-none-any.whl (96 kB)\n",
      "Collecting pyasn1>=0.1.7\n",
      "  Downloading pyasn1-0.4.8-py2.py3-none-any.whl (77 kB)\n",
      "Requirement already satisfied: pyparsing!=3.0.0,!=3.0.1,!=3.0.2,!=3.0.3,<4,>=2.4.2 in c:\\users\\emhm\\anaconda3\\lib\\site-packages (from httplib2>=0.9.1->oauth2client>=4.1.3->tsfel) (3.0.4)\n",
      "Requirement already satisfied: python-dateutil>=2.7.3 in c:\\users\\emhm\\anaconda3\\lib\\site-packages (from pandas>=0.25.3->tsfel) (2.8.2)\n",
      "Requirement already satisfied: pytz>=2017.3 in c:\\users\\emhm\\anaconda3\\lib\\site-packages (from pandas>=0.25.3->tsfel) (2021.3)\n",
      "Requirement already satisfied: wcwidth in c:\\users\\emhm\\anaconda3\\lib\\site-packages (from prompt-toolkit!=3.0.0,!=3.0.1,<3.1.0,>=2.0.0->ipython>=7.4.0->tsfel) (0.2.5)\n",
      "Requirement already satisfied: requests>=2.0.0 in c:\\users\\emhm\\anaconda3\\lib\\site-packages (from requests-oauthlib>=0.7.0->google-auth-oauthlib>=0.4.1->gspread>=3.1.0->tsfel) (2.26.0)\n",
      "Collecting oauthlib>=3.0.0\n",
      "  Downloading oauthlib-3.2.0-py3-none-any.whl (151 kB)\n",
      "Requirement already satisfied: certifi>=2017.4.17 in c:\\users\\emhm\\anaconda3\\lib\\site-packages (from requests>=2.0.0->requests-oauthlib>=0.7.0->google-auth-oauthlib>=0.4.1->gspread>=3.1.0->tsfel) (2021.10.8)\n",
      "Requirement already satisfied: urllib3<1.27,>=1.21.1 in c:\\users\\emhm\\anaconda3\\lib\\site-packages (from requests>=2.0.0->requests-oauthlib>=0.7.0->google-auth-oauthlib>=0.4.1->gspread>=3.1.0->tsfel) (1.26.7)\n",
      "Requirement already satisfied: charset-normalizer~=2.0.0 in c:\\users\\emhm\\anaconda3\\lib\\site-packages (from requests>=2.0.0->requests-oauthlib>=0.7.0->google-auth-oauthlib>=0.4.1->gspread>=3.1.0->tsfel) (2.0.4)\n",
      "Requirement already satisfied: idna<4,>=2.5 in c:\\users\\emhm\\anaconda3\\lib\\site-packages (from requests>=2.0.0->requests-oauthlib>=0.7.0->google-auth-oauthlib>=0.4.1->gspread>=3.1.0->tsfel) (3.2)\n",
      "Requirement already satisfied: sphinxcontrib-applehelp in c:\\users\\emhm\\anaconda3\\lib\\site-packages (from Sphinx>=1.8.5->tsfel) (1.0.2)\n",
      "Requirement already satisfied: sphinxcontrib-devhelp in c:\\users\\emhm\\anaconda3\\lib\\site-packages (from Sphinx>=1.8.5->tsfel) (1.0.2)\n",
      "Requirement already satisfied: sphinxcontrib-jsmath in c:\\users\\emhm\\anaconda3\\lib\\site-packages (from Sphinx>=1.8.5->tsfel) (1.0.1)\n",
      "Requirement already satisfied: sphinxcontrib-htmlhelp>=2.0.0 in c:\\users\\emhm\\anaconda3\\lib\\site-packages (from Sphinx>=1.8.5->tsfel) (2.0.0)\n",
      "Requirement already satisfied: sphinxcontrib-serializinghtml>=1.1.5 in c:\\users\\emhm\\anaconda3\\lib\\site-packages (from Sphinx>=1.8.5->tsfel) (1.1.5)\n",
      "Requirement already satisfied: sphinxcontrib-qthelp in c:\\users\\emhm\\anaconda3\\lib\\site-packages (from Sphinx>=1.8.5->tsfel) (1.0.3)\n",
      "Requirement already satisfied: Jinja2>=2.3 in c:\\users\\emhm\\anaconda3\\lib\\site-packages (from Sphinx>=1.8.5->tsfel) (2.11.3)\n",
      "Requirement already satisfied: docutils<0.18,>=0.14 in c:\\users\\emhm\\anaconda3\\lib\\site-packages (from Sphinx>=1.8.5->tsfel) (0.17.1)\n",
      "Requirement already satisfied: snowballstemmer>=1.1 in c:\\users\\emhm\\anaconda3\\lib\\site-packages (from Sphinx>=1.8.5->tsfel) (2.1.0)\n",
      "Requirement already satisfied: babel>=1.3 in c:\\users\\emhm\\anaconda3\\lib\\site-packages (from Sphinx>=1.8.5->tsfel) (2.9.1)\n",
      "Requirement already satisfied: alabaster<0.8,>=0.7 in c:\\users\\emhm\\anaconda3\\lib\\site-packages (from Sphinx>=1.8.5->tsfel) (0.7.12)\n",
      "Requirement already satisfied: imagesize in c:\\users\\emhm\\anaconda3\\lib\\site-packages (from Sphinx>=1.8.5->tsfel) (1.2.0)\n",
      "Requirement already satisfied: packaging in c:\\users\\emhm\\anaconda3\\lib\\site-packages (from Sphinx>=1.8.5->tsfel) (21.0)\n",
      "Requirement already satisfied: MarkupSafe>=0.23 in c:\\users\\emhm\\anaconda3\\lib\\site-packages (from Jinja2>=2.3->Sphinx>=1.8.5->tsfel) (1.1.1)\n",
      "Installing collected packages: pyasn1, rsa, pyasn1-modules, oauthlib, cachetools, requests-oauthlib, google-auth, httplib2, google-auth-oauthlib, oauth2client, gspread, tsfel\n",
      "Successfully installed cachetools-5.0.0 google-auth-2.6.2 google-auth-oauthlib-0.5.1 gspread-5.2.0 httplib2-0.20.4 oauth2client-4.1.3 oauthlib-3.2.0 pyasn1-0.4.8 pyasn1-modules-0.2.8 requests-oauthlib-1.3.1 rsa-4.8 tsfel-0.1.4\n"
     ]
    }
   ],
   "source": [
    "# You need to run this cell (code) only once!\n",
    "!pip install tsfel"
   ]
  },
  {
   "cell_type": "code",
   "execution_count": 2,
   "metadata": {},
   "outputs": [],
   "source": [
    "import tsfel\n",
    "import pandas as pd\n",
    "import numpy as np\n",
    "import matplotlib.pyplot as plt\n",
    "from collections import Counter\n",
    "import matplotlib.gridspec as gridspec"
   ]
  },
  {
   "cell_type": "markdown",
   "metadata": {},
   "source": [
    "# Import dataset"
   ]
  },
  {
   "cell_type": "code",
   "execution_count": 31,
   "metadata": {},
   "outputs": [
    {
     "data": {
      "text/html": [
       "<div>\n",
       "<style scoped>\n",
       "    .dataframe tbody tr th:only-of-type {\n",
       "        vertical-align: middle;\n",
       "    }\n",
       "\n",
       "    .dataframe tbody tr th {\n",
       "        vertical-align: top;\n",
       "    }\n",
       "\n",
       "    .dataframe thead th {\n",
       "        text-align: right;\n",
       "    }\n",
       "</style>\n",
       "<table border=\"1\" class=\"dataframe\">\n",
       "  <thead>\n",
       "    <tr style=\"text-align: right;\">\n",
       "      <th>Time (msec)</th>\n",
       "      <th>ipsi_wa (nV)</th>\n",
       "    </tr>\n",
       "  </thead>\n",
       "  <tbody>\n",
       "    <tr>\n",
       "      <th>0.020833</th>\n",
       "      <td>7.217339</td>\n",
       "    </tr>\n",
       "    <tr>\n",
       "      <th>0.041667</th>\n",
       "      <td>8.781087</td>\n",
       "    </tr>\n",
       "    <tr>\n",
       "      <th>0.062500</th>\n",
       "      <td>10.215491</td>\n",
       "    </tr>\n",
       "    <tr>\n",
       "      <th>0.083333</th>\n",
       "      <td>11.599972</td>\n",
       "    </tr>\n",
       "    <tr>\n",
       "      <th>0.104167</th>\n",
       "      <td>12.816255</td>\n",
       "    </tr>\n",
       "    <tr>\n",
       "      <th>...</th>\n",
       "      <td>...</td>\n",
       "    </tr>\n",
       "    <tr>\n",
       "      <th>19.916667</th>\n",
       "      <td>28.773983</td>\n",
       "    </tr>\n",
       "    <tr>\n",
       "      <th>19.937500</th>\n",
       "      <td>29.527588</td>\n",
       "    </tr>\n",
       "    <tr>\n",
       "      <th>19.958333</th>\n",
       "      <td>30.286467</td>\n",
       "    </tr>\n",
       "    <tr>\n",
       "      <th>19.979167</th>\n",
       "      <td>30.911253</td>\n",
       "    </tr>\n",
       "    <tr>\n",
       "      <th>20.000000</th>\n",
       "      <td>31.255436</td>\n",
       "    </tr>\n",
       "  </tbody>\n",
       "</table>\n",
       "<p>960 rows × 1 columns</p>\n",
       "</div>"
      ],
      "text/plain": [
       "Time (msec) ipsi_wa (nV)\n",
       "0.020833        7.217339\n",
       "0.041667        8.781087\n",
       "0.062500       10.215491\n",
       "0.083333       11.599972\n",
       "0.104167       12.816255\n",
       "...                  ...\n",
       "19.916667      28.773983\n",
       "19.937500      29.527588\n",
       "19.958333      30.286467\n",
       "19.979167      30.911253\n",
       "20.000000      31.255436\n",
       "\n",
       "[960 rows x 1 columns]"
      ]
     },
     "execution_count": 31,
     "metadata": {},
     "output_type": "execute_result"
    }
   ],
   "source": [
    "df=pd.read_excel(r'C:\\Users\\emhm\\source\\repos\\ML viz\\ML viz\\AEPrec_sABRe_data_TP8sABR_BILATERAL_2021-Jun-24_14.59.57_MOD_OK.xlsx', sheet_name='L500dBnHL55', index_col=0)\n",
    "dft=df.transpose()\n",
    "dft.drop(['cond_wa (nV)','contra_wa (nV)','rare_wa (nV)', 'Fmp_win (msec)', 'Fmp', 'p', 'nSweeps', 'RN (nV)', 'Display filter', 'Nominal rate (Hz)', 'Jitter distribution', 'Jitter degree', 'wave V peak (msec, nV)', 'wave V trough (msec, nV)', 'Condition', 'ABR wave V latency (msec)', 'ABR wave V amplitude (nV)'], inplace=True, axis=1)\n",
    "dft=dft.loc[:, dft.columns.notna()]\n",
    "dft"
   ]
  },
  {
   "cell_type": "code",
   "execution_count": 26,
   "metadata": {},
   "outputs": [
    {
     "data": {
      "text/plain": [
       "<function matplotlib.pyplot.show(close=None, block=None)>"
      ]
     },
     "execution_count": 26,
     "metadata": {},
     "output_type": "execute_result"
    },
    {
     "data": {
      "image/png": "[encoded data removed]",
      "text/plain": [
       "<Figure size 432x288 with 1 Axes>"
      ]
     },
     "metadata": {
      "needs_background": "light"
     },
     "output_type": "display_data"
    }
   ],
   "source": [
    "plt.plot(dft, label='L500dBnHL55')\n",
    "plt.xlabel('Time (msec)')\n",
    "plt.ylabel('ipsi_wa (nV)')\n",
    "plt.title('Left Ear')\n",
    "plt.legend()\n",
    "plt.show"
   ]
  },
  {
   "cell_type": "markdown",
   "metadata": {},
   "source": [
    "## Feature extraction using TSFEL package"
   ]
  },
  {
   "cell_type": "code",
   "execution_count": 29,
   "metadata": {},
   "outputs": [
    {
     "name": "stdout",
     "output_type": "stream",
     "text": [
      "*** Feature extraction started ***\n",
      "60\n"
     ]
    },
    {
     "data": {
      "text/html": [
       "\n",
       "              <p>\n",
       "                  Progress: 100% Complete\n",
       "              <p/>            \n",
       "              <progress\n",
       "                  value='60'\n",
       "                  max='60',\n",
       "                  style='width: 25%',\n",
       "              >\n",
       "                  60\n",
       "              </progress>\n",
       "\n",
       "    "
      ],
      "text/plain": [
       "<IPython.core.display.HTML object>"
      ]
     },
     "metadata": {},
     "output_type": "display_data"
    },
    {
     "name": "stdout",
     "output_type": "stream",
     "text": [
      "\n",
      "*** Feature extraction finished ***\n"
     ]
    }
   ],
   "source": [
    "cfg = tsfel.get_features_by_domain()\n",
    "\n",
    "feature_mitdb = tsfel.time_series_features_extractor(cfg, dft, fs=150)"
   ]
  },
  {
   "cell_type": "code",
   "execution_count": 28,
   "metadata": {},
   "outputs": [
    {
     "data": {
      "text/html": [
       "<div>\n",
       "<style scoped>\n",
       "    .dataframe tbody tr th:only-of-type {\n",
       "        vertical-align: middle;\n",
       "    }\n",
       "\n",
       "    .dataframe tbody tr th {\n",
       "        vertical-align: top;\n",
       "    }\n",
       "\n",
       "    .dataframe thead th {\n",
       "        text-align: right;\n",
       "    }\n",
       "</style>\n",
       "<table border=\"1\" class=\"dataframe\">\n",
       "  <thead>\n",
       "    <tr style=\"text-align: right;\">\n",
       "      <th></th>\n",
       "      <th>0_Absolute energy</th>\n",
       "      <th>0_Area under the curve</th>\n",
       "      <th>0_Autocorrelation</th>\n",
       "      <th>0_Centroid</th>\n",
       "      <th>0_ECDF Percentile Count_0</th>\n",
       "      <th>0_ECDF Percentile Count_1</th>\n",
       "      <th>0_ECDF Percentile_0</th>\n",
       "      <th>0_ECDF Percentile_1</th>\n",
       "      <th>0_ECDF_0</th>\n",
       "      <th>0_ECDF_1</th>\n",
       "      <th>...</th>\n",
       "      <th>0_Wavelet variance_0</th>\n",
       "      <th>0_Wavelet variance_1</th>\n",
       "      <th>0_Wavelet variance_2</th>\n",
       "      <th>0_Wavelet variance_3</th>\n",
       "      <th>0_Wavelet variance_4</th>\n",
       "      <th>0_Wavelet variance_5</th>\n",
       "      <th>0_Wavelet variance_6</th>\n",
       "      <th>0_Wavelet variance_7</th>\n",
       "      <th>0_Wavelet variance_8</th>\n",
       "      <th>0_Zero crossing rate</th>\n",
       "    </tr>\n",
       "  </thead>\n",
       "  <tbody>\n",
       "    <tr>\n",
       "      <th>0</th>\n",
       "      <td>1.154231e+07</td>\n",
       "      <td>728.463772</td>\n",
       "      <td>1.154231e+07</td>\n",
       "      <td>3.960988</td>\n",
       "      <td>192.0</td>\n",
       "      <td>768.0</td>\n",
       "      <td>-125.03273</td>\n",
       "      <td>99.672813</td>\n",
       "      <td>0.001042</td>\n",
       "      <td>0.002083</td>\n",
       "      <td>...</td>\n",
       "      <td>1.245634</td>\n",
       "      <td>20.07588</td>\n",
       "      <td>101.395399</td>\n",
       "      <td>305.223909</td>\n",
       "      <td>695.267476</td>\n",
       "      <td>1314.465495</td>\n",
       "      <td>2157.231971</td>\n",
       "      <td>3163.468031</td>\n",
       "      <td>4236.126158</td>\n",
       "      <td>2.0</td>\n",
       "    </tr>\n",
       "  </tbody>\n",
       "</table>\n",
       "<p>1 rows × 390 columns</p>\n",
       "</div>"
      ],
      "text/plain": [
       "   0_Absolute energy  0_Area under the curve  0_Autocorrelation  0_Centroid  \\\n",
       "0       1.154231e+07              728.463772       1.154231e+07    3.960988   \n",
       "\n",
       "   0_ECDF Percentile Count_0  0_ECDF Percentile Count_1  0_ECDF Percentile_0  \\\n",
       "0                      192.0                      768.0           -125.03273   \n",
       "\n",
       "   0_ECDF Percentile_1  0_ECDF_0  0_ECDF_1  ...  0_Wavelet variance_0  \\\n",
       "0            99.672813  0.001042  0.002083  ...              1.245634   \n",
       "\n",
       "   0_Wavelet variance_1  0_Wavelet variance_2  0_Wavelet variance_3  \\\n",
       "0              20.07588            101.395399            305.223909   \n",
       "\n",
       "   0_Wavelet variance_4  0_Wavelet variance_5  0_Wavelet variance_6  \\\n",
       "0            695.267476           1314.465495           2157.231971   \n",
       "\n",
       "   0_Wavelet variance_7  0_Wavelet variance_8  0_Zero crossing rate  \n",
       "0           3163.468031           4236.126158                   2.0  \n",
       "\n",
       "[1 rows x 390 columns]"
      ]
     },
     "execution_count": 28,
     "metadata": {},
     "output_type": "execute_result"
    }
   ],
   "source": [
    "feature_mitdb"
   ]
  },
  {
   "cell_type": "markdown",
   "metadata": {},
   "source": [
    "### Save the extracted features in a CSV file. This will save your time next time :)"
   ]
  },
  {
   "cell_type": "code",
   "execution_count": 36,
   "metadata": {},
   "outputs": [],
   "source": [
    "feature_mitdb.to_csv(\"feature_mitdb.csv\")"
   ]
  },
  {
   "cell_type": "markdown",
   "metadata": {},
   "source": [
    "#### Once you have saved the extracted features, you only need to import them in future and skip the feature extraction. This way life will be easier :)"
   ]
  },
  {
   "cell_type": "code",
   "execution_count": 37,
   "metadata": {},
   "outputs": [],
   "source": [
    "feature_mitdb = pd.read_csv('feature_mitdb.csv', header='infer')"
   ]
  },
  {
   "cell_type": "code",
   "execution_count": null,
   "metadata": {},
   "outputs": [],
   "source": []
  }
 ],
 "metadata": {
  "kernelspec": {
   "display_name": "Python 3 (ipykernel)",
   "language": "python",
   "name": "python3"
  },
  "language_info": {
   "codemirror_mode": {
    "name": "ipython",
    "version": 3
   },
   "file_extension": ".py",
   "mimetype": "text/x-python",
   "name": "python",
   "nbconvert_exporter": "python",
   "pygments_lexer": "ipython3",
   "version": "3.9.7"
  }
 },
 "nbformat": 4,
 "nbformat_minor": 4
}
