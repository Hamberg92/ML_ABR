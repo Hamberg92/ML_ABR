{
 "cells": [
  {
   "cell_type": "code",
   "execution_count": 23,
   "id": "5490c5d5",
   "metadata": {},
   "outputs": [],
   "source": [
    "import pandas as pd\n",
    "import numpy as np\n",
    "import xlwings as xw\n",
    "import glob"
   ]
  },
  {
   "cell_type": "code",
   "execution_count": 50,
   "id": "80b5025a",
   "metadata": {},
   "outputs": [],
   "source": [
    "xl = r'C:\\Users\\emilh\\Desktop\\Data_split\\Full data\\AEPrec_sABRe_data_TPsABR21_BILATERAL_2021-Aug-18_13.09.55.xlsx'\n",
    "\n",
    "try:\n",
    "    excel_app=xw.App(visible=False)\n",
    "    wb=excel_app.books.open(xl)\n",
    "    for sheet in wb.sheets:\n",
    "        sheet.api.Copy()\n",
    "        wb_new=xw.books.active\n",
    "        wb_new.save(f'{xl+sheet.name}.xlsx')\n",
    "        wb_new.close()\n",
    "finally:\n",
    "    excel_app.quit()"
   ]
  },
  {
   "cell_type": "code",
   "execution_count": 59,
   "id": "6ad46153",
   "metadata": {},
   "outputs": [
    {
     "ename": "TypeError",
     "evalue": "can only concatenate str (not \"int\") to str",
     "output_type": "error",
     "traceback": [
      "\u001b[1;31m---------------------------------------------------------------------------\u001b[0m",
      "\u001b[1;31mTypeError\u001b[0m                                 Traceback (most recent call last)",
      "\u001b[1;32mc:\\Users\\emilh\\Desktop\\data_engineering.ipynb Cell 3'\u001b[0m in \u001b[0;36m<cell line: 5>\u001b[1;34m()\u001b[0m\n\u001b[0;32m      <a href='vscode-notebook-cell:/c%3A/Users/emilh/Desktop/data_engineering.ipynb#ch0000004?line=7'>8</a>\u001b[0m \u001b[39m#df.insert(0, \"Signal\", \"1\")\u001b[39;00m\n\u001b[0;32m      <a href='vscode-notebook-cell:/c%3A/Users/emilh/Desktop/data_engineering.ipynb#ch0000004?line=8'>9</a>\u001b[0m \u001b[39mfor\u001b[39;00m col \u001b[39min\u001b[39;00m df\u001b[39m.\u001b[39mcolumns:\n\u001b[1;32m---> <a href='vscode-notebook-cell:/c%3A/Users/emilh/Desktop/data_engineering.ipynb#ch0000004?line=9'>10</a>\u001b[0m     new_df \u001b[39m=\u001b[39m pd\u001b[39m.\u001b[39mDataFrame(df[col\u001b[39m+\u001b[39;49m\u001b[39m1\u001b[39;49m])\n\u001b[0;32m     <a href='vscode-notebook-cell:/c%3A/Users/emilh/Desktop/data_engineering.ipynb#ch0000004?line=10'>11</a>\u001b[0m     dataframes\u001b[39m.\u001b[39mappend(new_df)\n\u001b[0;32m     <a href='vscode-notebook-cell:/c%3A/Users/emilh/Desktop/data_engineering.ipynb#ch0000004?line=11'>12</a>\u001b[0m     new_df\u001b[39m.\u001b[39mto_excel(\u001b[39m'\u001b[39m\u001b[39mdata.xlsx\u001b[39m\u001b[39m'\u001b[39m)\n",
      "\u001b[1;31mTypeError\u001b[0m: can only concatenate str (not \"int\") to str"
     ]
    }
   ],
   "source": [
    "path=r'C:\\Users\\emilh\\Desktop\\Data_split'\n",
    "allfiles=glob.glob(path+\"/*.xlsx\")\n",
    "dataframes = []\n",
    "\n",
    "for files in allfiles:\n",
    "    df=pd.read_excel(files)\n",
    "    df.drop(['Time (msec)', 'cond_wa (nV)','rare_wa (nV)', 'contra_wa (nV)'], inplace=True, axis=1)\n",
    "    #df.insert(0, \"Signal\", \"1\")\n",
    "    for col in df.columns:\n",
    "        new_df = pd.DataFrame(df[col])\n",
    "        dataframes.append(new_df)\n",
    "        new_df.to_excel('data.xlsx')"
   ]
  }
 ],
 "metadata": {
  "kernelspec": {
   "display_name": "Python 3 (ipykernel)",
   "language": "python",
   "name": "python3"
  },
  "language_info": {
   "codemirror_mode": {
    "name": "ipython",
    "version": 3
   },
   "file_extension": ".py",
   "mimetype": "text/x-python",
   "name": "python",
   "nbconvert_exporter": "python",
   "pygments_lexer": "ipython3",
   "version": "3.9.12"
  }
 },
 "nbformat": 4,
 "nbformat_minor": 5
}
